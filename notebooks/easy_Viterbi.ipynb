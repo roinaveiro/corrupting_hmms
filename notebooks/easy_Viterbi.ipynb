{
 "cells": [
  {
   "cell_type": "code",
   "execution_count": 1,
   "metadata": {},
   "outputs": [],
   "source": [
    "import numpy as np"
   ]
  },
  {
   "cell_type": "markdown",
   "metadata": {},
   "source": [
    "# Standard Viterbi"
   ]
  },
  {
   "cell_type": "code",
   "execution_count": 2,
   "metadata": {},
   "outputs": [],
   "source": [
    "priors     = np.array([0.5,0.5])\n",
    "transition = np.array([[0.95, 0.1],[0.05, 0.9]])\n",
    "emission   = np.array([[1/6, 1/6, 1/6, 1/6, 1/6, 1/6],\n",
    "                       [0.1, 0.1, 0.1, 0.1, 0.1, 0.5]]).T"
   ]
  },
  {
   "cell_type": "code",
   "execution_count": 21,
   "metadata": {},
   "outputs": [],
   "source": [
    "def run_Viterbi(real_obs, emission, transition):\n",
    "    \n",
    "    V   = np.zeros([len(real_obs), 2]) \n",
    "    Ptr = np.zeros([len(real_obs), 2]) \n",
    "\n",
    "    # Init\n",
    "    V[0] = emission[real_obs[0]] * priors\n",
    "\n",
    "    # Forward\n",
    "    for t in np.arange(1 , len(real_obs) ):\n",
    "        \n",
    "        #print(V[t-1])\n",
    "\n",
    "        V[t]   =  emission[real_obs[t]] * np.max( transition * V[t-1], axis=1 )\n",
    "        Ptr[t] =  np.argmax( transition * V[t-1], axis=1 )\n",
    "\n",
    "    # Backward\n",
    "\n",
    "    z_max = np.zeros(len(real_obs), dtype=int)\n",
    "\n",
    "    z_max[-1] = np.argmax(V[-1])\n",
    "\n",
    "    for t in np.arange(len(real_obs)-2, -1, -1):    \n",
    "        z_max[t] = Ptr[t, z_max[t+1]]\n",
    "        \n",
    "    return z_max\n"
   ]
  },
  {
   "cell_type": "code",
   "execution_count": 39,
   "metadata": {},
   "outputs": [
    {
     "name": "stdout",
     "output_type": "stream",
     "text": [
      "[3, 2, 1, 1, 5, 5, 5, 5, 5, 5, 5, 5, 0, 5, 1, 2, 4, 0, 4, 1, 5, 2, 5, 5, 2, 5, 5, 1, 5, 4, 5, 5, 0, 3, 4, 4, 0, 5, 1, 4, 0, 3, 2, 2, 1, 1, 5, 5, 2, 2, 3, 5, 3, 3, 5, 0, 4, 5, 5, 5, 2, 4, 2, 5, 5, 1, 3, 2, 1, 0, 0, 5, 5, 1, 4, 4, 4, 3, 2, 4, 1, 5, 5, 5, 3, 4, 0, 4, 0, 4, 5, 3, 4, 4, 4, 5, 2, 4, 3, 1, 4, 4, 3, 5, 5, 5, 4, 2, 1, 5, 5, 5, 2, 5, 5, 5, 4, 1, 5, 3, 5, 5, 5, 5, 5, 5, 0, 5, 0, 3, 3, 2, 4, 0, 0, 5, 5, 5, 0, 0, 0, 2, 2, 5, 2, 5, 4, 3, 2, 5, 5, 5, 1, 5, 3, 4, 5, 2, 2, 0, 0, 5, 5, 4, 5, 5, 2, 2, 2, 5, 4, 0, 5, 4, 3, 0, 1, 3, 5, 0, 5, 5, 2, 5, 2, 0, 5, 3, 4, 3, 2, 4, 5, 3, 1, 1, 3, 2, 0, 4, 4, 1, 0, 0, 5, 2, 4, 1, 1, 1, 5, 5, 5, 5, 4, 4, 4, 3, 3, 1, 3, 3, 5, 2, 5, 3, 1, 4, 5, 1, 5, 0, 5, 5, 3, 2, 2, 1, 2, 2, 1, 0, 0, 0, 2, 3, 1, 3, 4, 1, 0, 2, 1, 4, 4, 3, 1, 1, 5, 1, 3, 4, 0, 2, 2, 0, 1, 4, 1, 1, 5, 2, 0, 5, 5, 5, 5, 3, 5, 4, 5, 5, 5, 3, 2, 0, 0, 0, 1, 0, 5, 3, 5, 5, 0, 4, 2, 1, 1, 4]\n",
      "[0, 1, 1, 1, 1, 1, 1, 1, 1, 1, 1, 1, 1, 1, 1, 1, 1, 1, 1, 1, 1, 1, 1, 1, 1, 1, 1, 1, 1, 1, 1, 1, 1, 0, 0, 0, 0, 0, 0, 0, 0, 0, 0, 0, 0, 0, 0, 0, 0, 0, 0, 0, 0, 0, 0, 0, 0, 0, 0, 0, 0, 0, 0, 0, 0, 0, 0, 0, 0, 0, 0, 0, 0, 0, 0, 0, 0, 0, 0, 0, 0, 0, 0, 0, 0, 0, 0, 0, 0, 0, 0, 0, 0, 0, 0, 0, 0, 0, 0, 0, 0, 0, 0, 0, 1, 1, 1, 1, 1, 1, 1, 1, 1, 1, 1, 1, 1, 1, 1, 1, 1, 1, 1, 1, 1, 1, 1, 1, 1, 1, 1, 1, 1, 1, 1, 1, 1, 1, 1, 1, 1, 1, 1, 1, 1, 1, 1, 1, 1, 1, 1, 1, 1, 1, 1, 1, 1, 1, 1, 1, 1, 1, 1, 1, 1, 1, 1, 0, 0, 0, 0, 0, 0, 0, 0, 0, 0, 0, 0, 0, 0, 0, 0, 0, 0, 0, 0, 0, 0, 0, 0, 0, 0, 0, 0, 0, 0, 0, 0, 0, 0, 0, 0, 0, 0, 0, 0, 0, 0, 0, 0, 0, 0, 0, 0, 0, 0, 0, 0, 0, 0, 0, 0, 0, 0, 0, 0, 0, 0, 0, 0, 0, 0, 0, 0, 0, 0, 0, 0, 0, 0, 0, 0, 0, 0, 0, 0, 0, 0, 0, 0, 0, 0, 0, 0, 0, 0, 0, 0, 0, 0, 0, 0, 0, 0, 0, 0, 0, 0, 0, 0, 0, 0, 0, 1, 1, 1, 1, 1, 1, 1, 1, 1, 1, 0, 0, 0, 0, 0, 0, 0, 0, 0, 0, 0, 0, 0, 0, 0, 0]\n"
     ]
    },
    {
     "data": {
      "text/plain": [
       "0.6966666666666667"
      ]
     },
     "execution_count": 39,
     "metadata": {},
     "output_type": "execute_result"
    }
   ],
   "source": [
    "real_seq_labels = np.array([\"S\",\"S\",\"S\",\"S\",\"S\",\"S\",\"S\",\"S\",\"S\",\"S\",\"S\",\"S\",\"S\",\"S\",\"I\",\"I\",\"I\",\"I\",\n",
    "                     \"I\",\"I\",\"S\",\"S\",\"S\",\"S\",\"S\",\"S\",\"S\",\"S\",\"S\",\"S\",\"S\",\"S\",\"S\",\"S\",\"I\",\"I\",\n",
    "                     \"I\",\"I\",\"I\",\"I\",\"I\",\"I\",\"I\",\"I\",\"I\",\"I\",\"I\",\"I\",\"I\",\"I\",\"I\",\"I\",\"S\",\"S\",\n",
    "                     \"S\",\"S\",\"S\",\"S\",\"S\",\"S\",\"S\",\"S\",\"S\",\"S\",\"S\",\"S\",\"S\",\"I\",\"I\",\"I\",\"S\",\"S\",\n",
    "                     \"S\",\"S\",\"S\",\"I\",\"I\",\"I\",\"I\",\"I\",\"I\",\"I\",\"I\",\"I\",\"I\",\"I\",\"I\",\"I\",\"I\",\"I\",\n",
    "                     \"I\",\"I\",\"I\",\"I\",\"I\",\"I\",\"I\",\"I\",\"I\",\"I\",\"I\",\"I\",\"I\",\"S\",\"S\",\"S\",\"S\",\"S\",\n",
    "                     \"S\",\"S\",\"S\",\"S\",\"S\",\"S\",\"S\",\"S\",\"S\",\"S\",\"S\",\"S\",\"S\",\"S\",\"S\",\"S\",\"S\",\"S\",\n",
    "                     \"I\",\"I\",\"I\",\"I\",\"I\",\"I\",\"I\",\"I\",\"I\",\"I\",\"I\",\"I\",\"I\",\"I\",\"I\",\"I\",\"I\",\"I\",\n",
    "                     \"I\",\"I\",\"I\",\"I\",\"I\",\"S\",\"S\",\"S\",\"S\",\"S\",\"S\",\"S\",\"S\",\"S\",\"S\",\"I\",\"I\",\"I\",\n",
    "                     \"I\",\"I\",\"S\",\"S\",\"I\",\"I\",\"I\",\"I\",\"I\",\"I\",\"I\",\"I\",\"I\",\"I\",\"I\",\"I\",\"I\",\"I\",\n",
    "                     \"I\",\"I\",\"I\",\"I\",\"I\",\"I\",\"I\",\"I\",\"I\",\"I\",\"I\",\"I\",\"I\",\"I\",\"I\",\"I\",\"I\",\"I\",\n",
    "                     \"I\",\"I\",\"I\",\"I\",\"I\",\"I\",\"I\",\"I\",\"I\",\"I\",\"I\",\"I\",\"S\",\"S\",\"S\",\"S\",\"I\",\"I\",\n",
    "                     \"I\",\"I\",\"I\",\"I\",\"I\",\"I\",\"I\",\"I\",\"I\",\"S\",\"S\",\"S\",\"S\",\"S\",\"S\",\"S\",\"S\",\"I\",\n",
    "                     \"I\",\"I\",\"I\",\"I\",\"I\",\"I\",\"I\",\"I\",\"I\",\"I\",\"I\",\"I\",\"I\",\"I\",\"I\",\"I\",\"I\",\"I\",\n",
    "                     \"I\",\"I\",\"I\",\"I\",\"I\",\"I\",\"S\",\"S\",\"S\",\"S\",\"I\",\"I\",\"I\",\"I\",\"I\",\"I\",\"I\",\"I\",\n",
    "                     \"S\",\"S\",\"S\",\"S\",\"S\",\"S\",\"S\",\"S\",\"S\",\"S\",\"S\",\"S\",\"S\",\"I\",\"I\",\"I\",\"S\",\"S\",\n",
    "                     \"S\",\"S\",\"S\",\"S\",\"S\",\"S\",\"S\",\"S\",\"I\",\"I\",\"S\",\"S\"])\n",
    "\n",
    "\n",
    "real_seq = np.zeros_like(real_seq_labels, dtype=int)\n",
    "real_seq[real_seq_labels==\"S\"] = 1\n",
    "\n",
    "real_obs = np.zeros_like(real_seq)\n",
    "\n",
    "for i, j in enumerate(real_seq):\n",
    "    p = emission[:,j]\n",
    "    real_obs[i] = np.random.choice(np.arange(0,6), p=p)\n",
    "    \n",
    "    \n",
    "print(list(real_obs))\n",
    "    \n",
    "MAP_seq = run_Viterbi(real_obs, emission, transition) \n",
    "\n",
    "print(list(MAP_seq))\n",
    "\n",
    "\n",
    "np.mean(MAP_seq == real_seq)"
   ]
  },
  {
   "cell_type": "markdown",
   "metadata": {},
   "source": [
    "# Attacking Viterbi"
   ]
  },
  {
   "cell_type": "code",
   "execution_count": 5,
   "metadata": {},
   "outputs": [],
   "source": [
    "real_seq_labels = np.array([\"S\",\"S\",\"S\",\"S\",\"S\",\"S\",\"S\",\"S\",\"S\"])\n",
    "\n",
    "real_seq = np.zeros_like(real_seq_labels, dtype=int)\n",
    "real_seq[real_seq_labels==\"S\"] = 1\n",
    "\n",
    "real_obs = np.zeros_like(real_seq)\n",
    "\n",
    "for i, j in enumerate(real_seq):\n",
    "    p = emission[:,j]\n",
    "    real_obs[i] = np.random.choice(np.arange(0,6), p=p)"
   ]
  },
  {
   "cell_type": "code",
   "execution_count": 6,
   "metadata": {},
   "outputs": [
    {
     "name": "stdout",
     "output_type": "stream",
     "text": [
      "Real Obs:  [5 5 3 5 5 5 2 5 2]\n",
      "Inferred Seq:  [0 1 1 1 1 1 1 1 1]\n",
      "Target Seq:  [0 0 0 0 1 1 1 1 1]\n"
     ]
    }
   ],
   "source": [
    "print( \"Real Obs: \", real_obs)\n",
    "\n",
    "\n",
    "inferred_real_seq = run_Viterbi(real_obs, emission, transition)\n",
    "print( \"Inferred Seq: \", inferred_real_seq)\n",
    "\n",
    "target_seq = np.array([0, 0, 0, 0, 1, 1, 1, 1, 1])\n",
    "print( \"Target Seq: \", target_seq)"
   ]
  },
  {
   "cell_type": "code",
   "execution_count": 16,
   "metadata": {},
   "outputs": [],
   "source": [
    "def g1(x, theta2_opt):\n",
    "    return transition[theta2_opt] * emission[x] * priors\n",
    "\n",
    "def V_tilde1(x):\n",
    "    return emission[x] * priors\n",
    "\n",
    "def g(x, theta_opt, V_tilde):\n",
    "    return transition[theta_opt] * emission[x] * np.max( transition * V_tilde, axis=1 )\n",
    "\n",
    "def next_V_tilde(x, V_tilde):\n",
    "    return emission[x] * np.max( transition * V_tilde, axis=1 )"
   ]
  },
  {
   "cell_type": "code",
   "execution_count": 58,
   "metadata": {},
   "outputs": [
    {
     "data": {
      "text/plain": [
       "array([0.00208912, 0.010125  ])"
      ]
     },
     "execution_count": 58,
     "metadata": {},
     "output_type": "execute_result"
    }
   ],
   "source": [
    "# 0, 1, 1\n",
    "\n",
    "g1(2, 0)\n",
    "# obs0 = 2\n",
    "\n",
    "g(5, 1, V_tilde1(2))\n",
    "# obs1 = 5\n",
    "\n",
    "curr_V_tilde = next_V_tilde(5, V_tilde1(2))\n",
    "\n",
    "#curr_V_tilde\n",
    "next_V_tilde(5, curr_V_tilde)\n",
    "# obs2 = \n"
   ]
  },
  {
   "cell_type": "code",
   "execution_count": 64,
   "metadata": {},
   "outputs": [
    {
     "name": "stdout",
     "output_type": "stream",
     "text": [
      "[0.08333333 0.05      ]\n",
      "[0.01319444 0.0225    ]\n",
      "[0.00208912 0.010125  ]\n",
      "[0.00033078 0.00091125]\n",
      "[5.23730871e-05 8.20125000e-05]\n"
     ]
    },
    {
     "data": {
      "text/plain": [
       "array([0, 1, 1, 1, 1, 1])"
      ]
     },
     "execution_count": 64,
     "metadata": {},
     "output_type": "execute_result"
    }
   ],
   "source": [
    "cont_data = np.array([2,5,5,3,4,5])\n",
    "run_Viterbi(cont_data, emission, transition)"
   ]
  },
  {
   "cell_type": "code",
   "execution_count": 49,
   "metadata": {},
   "outputs": [
    {
     "data": {
      "text/plain": [
       "array([0.07916667, 0.005     ])"
      ]
     },
     "execution_count": 49,
     "metadata": {},
     "output_type": "execute_result"
    }
   ],
   "source": [
    "g1(4, 0)"
   ]
  },
  {
   "cell_type": "code",
   "execution_count": 34,
   "metadata": {},
   "outputs": [
    {
     "data": {
      "text/plain": [
       "array([0.16666667, 0.5       ])"
      ]
     },
     "execution_count": 34,
     "metadata": {},
     "output_type": "execute_result"
    }
   ],
   "source": [
    "emission[5]"
   ]
  },
  {
   "cell_type": "code",
   "execution_count": 18,
   "metadata": {},
   "outputs": [],
   "source": [
    "target_seq = np.array([0, 0, 0, 0, 1, 1, 1, 1, 1])"
   ]
  },
  {
   "cell_type": "code",
   "execution_count": 22,
   "metadata": {},
   "outputs": [
    {
     "data": {
      "text/plain": [
       "array([0.95, 0.1 ])"
      ]
     },
     "execution_count": 22,
     "metadata": {},
     "output_type": "execute_result"
    }
   ],
   "source": [
    "transition[0]"
   ]
  }
 ],
 "metadata": {
  "kernelspec": {
   "display_name": "Python 3 (ipykernel)",
   "language": "python",
   "name": "python3"
  },
  "language_info": {
   "codemirror_mode": {
    "name": "ipython",
    "version": 3
   },
   "file_extension": ".py",
   "mimetype": "text/x-python",
   "name": "python",
   "nbconvert_exporter": "python",
   "pygments_lexer": "ipython3",
   "version": "3.11.5"
  }
 },
 "nbformat": 4,
 "nbformat_minor": 4
}
