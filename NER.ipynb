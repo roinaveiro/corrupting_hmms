{
 "cells": [
  {
   "cell_type": "code",
   "execution_count": 1,
   "id": "96f6a1f4",
   "metadata": {},
   "outputs": [
    {
     "name": "stderr",
     "output_type": "stream",
     "text": [
      "[nltk_data] Downloading package stopwords to\n",
      "[nltk_data]     /home/roi.naveiro/nltk_data...\n",
      "[nltk_data]   Package stopwords is already up-to-date!\n"
     ]
    }
   ],
   "source": [
    "import numpy as np\n",
    "from hmm_utils import HMM\n",
    "from params import *\n",
    "\n",
    "import numpy as np  # linear algebra\n",
    "import pandas as pd  # data processing, CSV file I/O (e.g. pd.read_csv)\n",
    "from tqdm import tqdm\n",
    "import random\n",
    "\n",
    "#some other libraries\n",
    "import re\n",
    "import nltk\n",
    "from nltk.corpus import stopwords\n",
    "nltk.download('stopwords')\n",
    "\n",
    "from typing import List\n",
    "\n",
    "from sklearn.model_selection import GroupShuffleSplit\n",
    "from sklearn.metrics import confusion_matrix, classification_report, accuracy_score, precision_score, recall_score, \\\n",
    "    f1_score, roc_auc_score"
   ]
  },
  {
   "cell_type": "markdown",
   "id": "07b2cb82-661b-4306-a3ad-37befc502eb9",
   "metadata": {},
   "source": [
    "## Perprocessing"
   ]
  },
  {
   "cell_type": "code",
   "execution_count": 2,
   "id": "b4ef3e52-1d4d-49a9-8abe-b226f51bafad",
   "metadata": {},
   "outputs": [
    {
     "name": "stderr",
     "output_type": "stream",
     "text": [
      "/tmp/ipykernel_1922405/2847341886.py:2: FutureWarning: DataFrame.fillna with 'method' is deprecated and will raise in a future version. Use obj.ffill() or obj.bfill() instead.\n",
      "  data = data.fillna(method=\"ffill\")\n"
     ]
    },
    {
     "data": {
      "text/html": [
       "<div>\n",
       "<style scoped>\n",
       "    .dataframe tbody tr th:only-of-type {\n",
       "        vertical-align: middle;\n",
       "    }\n",
       "\n",
       "    .dataframe tbody tr th {\n",
       "        vertical-align: top;\n",
       "    }\n",
       "\n",
       "    .dataframe thead th {\n",
       "        text-align: right;\n",
       "    }\n",
       "</style>\n",
       "<table border=\"1\" class=\"dataframe\">\n",
       "  <thead>\n",
       "    <tr style=\"text-align: right;\">\n",
       "      <th></th>\n",
       "      <th>sentence</th>\n",
       "      <th>Word</th>\n",
       "      <th>POS</th>\n",
       "      <th>Tag</th>\n",
       "    </tr>\n",
       "  </thead>\n",
       "  <tbody>\n",
       "    <tr>\n",
       "      <th>0</th>\n",
       "      <td>Sentence: 1</td>\n",
       "      <td>Thousands</td>\n",
       "      <td>NNS</td>\n",
       "      <td>O</td>\n",
       "    </tr>\n",
       "    <tr>\n",
       "      <th>1</th>\n",
       "      <td>Sentence: 1</td>\n",
       "      <td>of</td>\n",
       "      <td>IN</td>\n",
       "      <td>O</td>\n",
       "    </tr>\n",
       "    <tr>\n",
       "      <th>2</th>\n",
       "      <td>Sentence: 1</td>\n",
       "      <td>demonstrators</td>\n",
       "      <td>NNS</td>\n",
       "      <td>O</td>\n",
       "    </tr>\n",
       "    <tr>\n",
       "      <th>3</th>\n",
       "      <td>Sentence: 1</td>\n",
       "      <td>have</td>\n",
       "      <td>VBP</td>\n",
       "      <td>O</td>\n",
       "    </tr>\n",
       "    <tr>\n",
       "      <th>4</th>\n",
       "      <td>Sentence: 1</td>\n",
       "      <td>marched</td>\n",
       "      <td>VBN</td>\n",
       "      <td>O</td>\n",
       "    </tr>\n",
       "  </tbody>\n",
       "</table>\n",
       "</div>"
      ],
      "text/plain": [
       "      sentence           Word  POS Tag\n",
       "0  Sentence: 1      Thousands  NNS   O\n",
       "1  Sentence: 1             of   IN   O\n",
       "2  Sentence: 1  demonstrators  NNS   O\n",
       "3  Sentence: 1           have  VBP   O\n",
       "4  Sentence: 1        marched  VBN   O"
      ]
     },
     "execution_count": 2,
     "metadata": {},
     "output_type": "execute_result"
    }
   ],
   "source": [
    "data = pd.read_csv(\"data/ner.csv\", encoding = \"latin1\")\n",
    "data = data.fillna(method=\"ffill\")\n",
    "data = data.rename(columns={'Sentence #': 'sentence'})\n",
    "data.head(5)"
   ]
  },
  {
   "cell_type": "code",
   "execution_count": 3,
   "id": "4accc255-b639-4327-ad82-ce4d2b30d02b",
   "metadata": {},
   "outputs": [],
   "source": [
    "def pre_processing(text_column):\n",
    "    # lowercase all text in the column\n",
    "    text_column = text_column.str.lower()\n",
    "\n",
    "    # replacing numbers with NUM token\n",
    "    text_column = text_column.str.replace(r'\\d+', 'NUM')\n",
    "\n",
    "    # removing stopwords\n",
    "    stop_words = set(stopwords.words('english'))\n",
    "    text_column = text_column.apply(lambda x: ' '.join([word for word in x.split() if word not in stop_words]))\n",
    "\n",
    "    return text_column\n",
    "\n",
    "data_pre_precessed = pre_processing(data.Word)\n",
    "#creating new dataframe with preprocessed word as a column\n",
    "data_processed = data\n",
    "data_processed['Word'] = data_pre_precessed\n",
    "\n",
    "#removing the rows where word is empty\n",
    "data_processed = data_processed[(data_processed['Word'] != '') | (data_processed['Word'].isna())]"
   ]
  },
  {
   "cell_type": "code",
   "execution_count": 4,
   "id": "491f5421-c600-469f-9330-6c55ba03265d",
   "metadata": {},
   "outputs": [
    {
     "data": {
      "text/plain": [
       "31682"
      ]
     },
     "execution_count": 4,
     "metadata": {},
     "output_type": "execute_result"
    }
   ],
   "source": [
    "tags = list(set(data.POS.values))  # Unique POS tags in the dataset\n",
    "words = list(set(data.Word.values))  # Unique words in the dataset\n",
    "len(tags), len(words)\n",
    "\n",
    "words1 = list(set(data_processed.Word.values))  # Unique words in the dataset\n",
    "len(words1)"
   ]
  },
  {
   "cell_type": "markdown",
   "id": "fa3c7fbf-31c5-408e-87fc-7a4f7f717035",
   "metadata": {},
   "source": [
    "# Select most common words "
   ]
  },
  {
   "cell_type": "code",
   "execution_count": 5,
   "id": "df28de6f-20b0-47f6-a82c-e3f63294f3b1",
   "metadata": {},
   "outputs": [
    {
     "data": {
      "text/plain": [
       "(29, 300)"
      ]
     },
     "execution_count": 5,
     "metadata": {},
     "output_type": "execute_result"
    }
   ],
   "source": [
    "# Most common words\n",
    "N_w = 300\n",
    "common_words = data_processed['Word'] .value_counts().sort_values(ascending=False)[:N_w].index\n",
    "data_reduced = data_processed[data_processed['Word'].isin(common_words)]\n",
    "\n",
    "tags = list(set(data_reduced.POS.values))  # Unique POS tags in the dataset\n",
    "words = list(set(data_reduced.Word.values))  # Unique words in the dataset\n",
    "len(tags), len(words)\n"
   ]
  },
  {
   "cell_type": "code",
   "execution_count": 61,
   "id": "8d4e1c91-6cb9-4823-a5dd-9192addbd0f0",
   "metadata": {},
   "outputs": [],
   "source": [
    "words = list(set(data_reduced.Word.values))\n",
    "# Convert words and tags into numbers\n",
    "word2id = {w: i for i, w in enumerate(words)}\n",
    "tag2id = {t: i for i, t in enumerate(tags)}\n",
    "id2tag = {i: t for i, t in enumerate(tags)}\n",
    "len(tags), len(words)\n",
    "id2word = {}\n",
    "for key in word2id:\n",
    "    id2word[word2id[key]] = key\n"
   ]
  },
  {
   "cell_type": "code",
   "execution_count": 48,
   "id": "55e17f90-47e9-4d1a-832d-feb7b29cf375",
   "metadata": {},
   "outputs": [],
   "source": [
    "def seq2word(X):\n",
    "    l = []\n",
    "    for i in range(len(X)):\n",
    "        l.append(id2word[X[i]])\n",
    "    return l"
   ]
  },
  {
   "cell_type": "markdown",
   "id": "6348f228-b2ca-4725-a660-c228484439a3",
   "metadata": {},
   "source": [
    "## Create HMM manually"
   ]
  },
  {
   "cell_type": "code",
   "execution_count": 7,
   "id": "c8969225-0eaf-4d20-ba32-2411732b9784",
   "metadata": {},
   "outputs": [
    {
     "name": "stderr",
     "output_type": "stream",
     "text": [
      "100%|██████████████████████████████████████████████████████████████████████████████████████████████████████████████████████████████████████████████████████████████| 329086/329086 [00:00<00:00, 1619516.90it/s]\n"
     ]
    }
   ],
   "source": [
    "count_tags = dict(data_reduced.POS.value_counts())  # Total number of POS tags in the dataset\n",
    "# Now let's create the tags to words count\n",
    "count_tags_to_words = data_reduced.groupby(['POS']).apply(\n",
    "    lambda grp: grp.groupby('Word')['POS'].count().to_dict()).to_dict()\n",
    "# We shall also collect the counts for the first tags in the sentence\n",
    "count_init_tags = dict(data_reduced.groupby('sentence').first().POS.value_counts())\n",
    "\n",
    "# Create a mapping that stores the frequency of transitions in tags to it's next tags\n",
    "count_tags_to_next_tags = np.zeros((len(tags), len(tags)), dtype=int)\n",
    "sentences = list(data_reduced.sentence)\n",
    "pos = list(data_reduced.POS)\n",
    "for i in tqdm(range(len(sentences)), position=0, leave=True):\n",
    "    if (i > 0) and (sentences[i] == sentences[i - 1]):\n",
    "        prevtagid = tag2id[pos[i - 1]]\n",
    "        nexttagid = tag2id[pos[i]]\n",
    "        count_tags_to_next_tags[prevtagid][nexttagid] += 1"
   ]
  },
  {
   "cell_type": "code",
   "execution_count": 8,
   "id": "6be1ffa8-cc46-4bb3-9cec-188bc0a20086",
   "metadata": {},
   "outputs": [
    {
     "name": "stderr",
     "output_type": "stream",
     "text": [
      "100%|█████████████████████████████████████████████████████████████████████████████████████████████████████████████████████████████████████████████████████████████████████████| 29/29 [00:00<00:00, 8311.80it/s]\n"
     ]
    }
   ],
   "source": [
    "startprob = np.zeros((len(tags),))\n",
    "transmat = np.zeros((len(tags), len(tags)))\n",
    "emissionprob = np.zeros((len(tags), len(words)))\n",
    "num_sentences = sum(count_init_tags.values())\n",
    "sum_tags_to_next_tags = np.sum(count_tags_to_next_tags, axis=1)\n",
    "for tag, tagid in tqdm(tag2id.items(), position=0, leave=True):\n",
    "    floatCountTag = float(count_tags.get(tag, 0))\n",
    "    startprob[tagid] = count_init_tags.get(tag, 0) / num_sentences\n",
    "    for word, wordid in word2id.items():\n",
    "        emissionprob[tagid][wordid] = count_tags_to_words.get(tag, {}).get(word, 0) / floatCountTag\n",
    "    for tag2, tagid2 in tag2id.items():\n",
    "        transmat[tagid][tagid2] = count_tags_to_next_tags[tagid][tagid2] / sum_tags_to_next_tags[tagid]"
   ]
  },
  {
   "cell_type": "markdown",
   "id": "8f66ae9e-82f4-418b-b203-c6ed4ca98260",
   "metadata": {},
   "source": [
    "# Build HMM\n",
    "\n",
    "Include cutoff for probabilities equal to 0"
   ]
  },
  {
   "cell_type": "code",
   "execution_count": 9,
   "id": "197f709e-5d80-4510-9f13-20ee2448b478",
   "metadata": {},
   "outputs": [
    {
     "data": {
      "text/plain": [
       "array([1., 1., 1., 1., 1., 1., 1., 1., 1., 1., 1., 1., 1., 1., 1., 1., 1.,\n",
       "       1., 1., 1., 1., 1., 1., 1., 1., 1., 1., 1., 1.])"
      ]
     },
     "execution_count": 9,
     "metadata": {},
     "output_type": "execute_result"
    }
   ],
   "source": [
    "cutoff = 0.001\n",
    "startprob = startprob +  cutoff\n",
    "startprob = startprob/ np.sum(startprob)\n",
    "##\n",
    "transmat =  transmat + cutoff\n",
    "transmat = transmat / np.sum(transmat, axis=1)\n",
    "##\n",
    "emissionprob =  emissionprob + cutoff\n",
    "emissionprob = emissionprob / np.sum(emissionprob, axis=1).reshape(-1,1)"
   ]
  },
  {
   "cell_type": "code",
   "execution_count": 10,
   "id": "c2b7ac28-e69a-434a-bc84-cdb4caec259a",
   "metadata": {},
   "outputs": [],
   "source": [
    "hmm_n = HMM(len(tags), len(words))\n",
    "hmm_n.startprob_ = startprob\n",
    "hmm_n.transmat_ = transmat\n",
    "hmm_n.emissionprob_ = emissionprob"
   ]
  },
  {
   "cell_type": "markdown",
   "id": "b0aa3f90-e152-4b7d-8272-315cf95a9319",
   "metadata": {},
   "source": [
    "# Attack HMM - APS"
   ]
  },
  {
   "cell_type": "code",
   "execution_count": 11,
   "id": "231984f1-ee68-418b-80f5-e90bc073b2c5",
   "metadata": {},
   "outputs": [],
   "source": [
    "from solvers.aps_gibbs_class import aps_gibbs\n",
    "from attackers.decoding_attacker import dec_attacker"
   ]
  },
  {
   "cell_type": "code",
   "execution_count": 12,
   "id": "7293a23a-6478-4f0a-b906-f0558a225a3e",
   "metadata": {},
   "outputs": [],
   "source": [
    "T  = 53\n",
    "n_obs = 300\n",
    "n_hidden = 29\n",
    "w1 = 0.0\n",
    "w2 = 100.0 \n",
    "k_value = 1000000.0\n",
    "cool = np.arange(500,501, 1)\n",
    "seq = 22*np.ones(T).astype(int)\n",
    "X = np.zeros( (1, len(data_reduced.Word.values[:T])) )\n",
    "for i in range(len(data_reduced.Word.values[:T])):\n",
    "    X[0, i] = word2id[data_reduced.Word.values[i]]\n",
    "\n",
    "###\n",
    "X = np.zeros( (1, len(data_reduced.Word.values[:T])) )\n",
    "for i in range(len(data_reduced.Word.values[:T])):\n",
    "    X[0, i] = word2id[data_reduced.Word.values[i]]\n",
    "    \n",
    "A =  X.astype(int)\n",
    "\n",
    "_, y_pred = hmm_n.nu(A[0])\n",
    "y_pred\n",
    "\n",
    "y = np.zeros(len(data_reduced.POS[:T]))\n",
    "for i in range(len(data_reduced.POS[:T])):\n",
    "    y[i] = tag2id[data_reduced.POS[:T].iloc[i]]\n",
    "###\n",
    "\n",
    "A =  X.astype(int)"
   ]
  },
  {
   "cell_type": "code",
   "execution_count": 13,
   "id": "8aa810bb-2b57-4fda-8528-92c021c4372a",
   "metadata": {},
   "outputs": [],
   "source": [
    "rho_probs = np.ones(n_obs)\n",
    "att = dec_attacker(hmm_n.startprob_ , hmm_n.transmat_, hmm_n.emissionprob_, rho_probs,\n",
    "         A.T, w1, w2, seq, k_value)"
   ]
  },
  {
   "cell_type": "code",
   "execution_count": 14,
   "id": "49d14769-4ae1-4764-a498-ed20fb509aa0",
   "metadata": {
    "scrolled": true
   },
   "outputs": [
    {
     "name": "stdout",
     "output_type": "stream",
     "text": [
      "Percentage completed: 0.0\n",
      "Current state [[0. 0. 0. ... 0. 0. 0.]\n",
      " [0. 0. 0. ... 0. 0. 0.]\n",
      " [0. 0. 0. ... 0. 0. 0.]\n",
      " ...\n",
      " [0. 0. 0. ... 0. 1. 0.]\n",
      " [0. 0. 0. ... 0. 0. 0.]\n",
      " [0. 0. 0. ... 0. 0. 0.]]\n",
      "0\n",
      "1\n"
     ]
    },
    {
     "ename": "KeyboardInterrupt",
     "evalue": "",
     "output_type": "error",
     "traceback": [
      "\u001b[0;31m---------------------------------------------------------------------------\u001b[0m",
      "\u001b[0;31mKeyboardInterrupt\u001b[0m                         Traceback (most recent call last)",
      "Cell \u001b[0;32mIn[14], line 2\u001b[0m\n\u001b[1;32m      1\u001b[0m find_sol \u001b[38;5;241m=\u001b[39m aps_gibbs(att, cool, burnin\u001b[38;5;241m=\u001b[39m\u001b[38;5;241m0.1\u001b[39m, verbose\u001b[38;5;241m=\u001b[39m\u001b[38;5;28;01mTrue\u001b[39;00m)\n\u001b[0;32m----> 2\u001b[0m sol, samples \u001b[38;5;241m=\u001b[39m \u001b[43mfind_sol\u001b[49m\u001b[38;5;241;43m.\u001b[39;49m\u001b[43miterate\u001b[49m\u001b[43m(\u001b[49m\u001b[43msimulation_seconds\u001b[49m\u001b[38;5;241;43m=\u001b[39;49m\u001b[38;5;28;43;01mNone\u001b[39;49;00m\u001b[43m)\u001b[49m\n",
      "File \u001b[0;32m~/Library/CloudStorage/OneDrive-CUNEF/CUNEF/research/corrupting_hmms/solvers/aps_gibbs_class.py:127\u001b[0m, in \u001b[0;36maps_gibbs.iterate\u001b[0;34m(self, simulation_seconds)\u001b[0m\n\u001b[1;32m    123\u001b[0m             \u001b[38;5;28mprint\u001b[39m(\u001b[38;5;124m\"\u001b[39m\u001b[38;5;124mPercentage completed:\u001b[39m\u001b[38;5;124m\"\u001b[39m, \n\u001b[1;32m    124\u001b[0m             np\u001b[38;5;241m.\u001b[39mround( \u001b[38;5;241m100\u001b[39m\u001b[38;5;241m*\u001b[39mi\u001b[38;5;241m/\u001b[39m\u001b[38;5;28mlen\u001b[39m(\u001b[38;5;28mself\u001b[39m\u001b[38;5;241m.\u001b[39mcooling_schedule), \u001b[38;5;241m2\u001b[39m) )\n\u001b[1;32m    125\u001b[0m             \u001b[38;5;28mprint\u001b[39m(\u001b[38;5;124m\"\u001b[39m\u001b[38;5;124mCurrent state\u001b[39m\u001b[38;5;124m\"\u001b[39m, z_init)\n\u001b[0;32m--> 127\u001b[0m     z_init, hmms, value \u001b[38;5;241m=\u001b[39m \u001b[38;5;28;43mself\u001b[39;49m\u001b[38;5;241;43m.\u001b[39;49m\u001b[43mupdate_all\u001b[49m\u001b[43m(\u001b[49m\u001b[43mi\u001b[49m\u001b[43m,\u001b[49m\u001b[43m \u001b[49m\u001b[43mtemp\u001b[49m\u001b[43m,\u001b[49m\u001b[43m \u001b[49m\u001b[43mz_init\u001b[49m\u001b[43m,\u001b[49m\u001b[43m \u001b[49m\u001b[43mhmms\u001b[49m\u001b[43m,\u001b[49m\u001b[43m \u001b[49m\u001b[43mvalue\u001b[49m\u001b[43m)\u001b[49m\n\u001b[1;32m    129\u001b[0m z_star \u001b[38;5;241m=\u001b[39m \u001b[38;5;28mself\u001b[39m\u001b[38;5;241m.\u001b[39mextract_solution(\u001b[38;5;28mself\u001b[39m\u001b[38;5;241m.\u001b[39mz_samples\u001b[38;5;241m.\u001b[39mshape[\u001b[38;5;241m0\u001b[39m])\n\u001b[1;32m    130\u001b[0m \u001b[38;5;28;01mreturn\u001b[39;00m z_star, \u001b[38;5;28mself\u001b[39m\u001b[38;5;241m.\u001b[39mz_samples\n",
      "File \u001b[0;32m~/Library/CloudStorage/OneDrive-CUNEF/CUNEF/research/corrupting_hmms/solvers/aps_gibbs_class.py:95\u001b[0m, in \u001b[0;36maps_gibbs.update_all\u001b[0;34m(self, i, temp, z_init, hmms, value)\u001b[0m\n\u001b[1;32m     93\u001b[0m \u001b[38;5;28;01mfor\u001b[39;00m idx \u001b[38;5;129;01min\u001b[39;00m \u001b[38;5;28mrange\u001b[39m(\u001b[38;5;28mself\u001b[39m\u001b[38;5;241m.\u001b[39mattacker\u001b[38;5;241m.\u001b[39mT):\n\u001b[1;32m     94\u001b[0m     \u001b[38;5;28mprint\u001b[39m(idx)\n\u001b[0;32m---> 95\u001b[0m     z_init \u001b[38;5;241m=\u001b[39m \u001b[38;5;28;43mself\u001b[39;49m\u001b[38;5;241;43m.\u001b[39;49m\u001b[43mupdate_z\u001b[49m\u001b[43m(\u001b[49m\u001b[43mhmms\u001b[49m\u001b[43m,\u001b[49m\u001b[43m \u001b[49m\u001b[43mz_init\u001b[49m\u001b[43m,\u001b[49m\u001b[43m \u001b[49m\u001b[43midx\u001b[49m\u001b[43m)\u001b[49m\n\u001b[1;32m     96\u001b[0m     \u001b[38;5;28mself\u001b[39m\u001b[38;5;241m.\u001b[39mz_samples[i, idx] \u001b[38;5;241m=\u001b[39m z_init[idx]\n\u001b[1;32m     98\u001b[0m \u001b[38;5;66;03m# Update value with new z\u001b[39;00m\n",
      "File \u001b[0;32m~/Library/CloudStorage/OneDrive-CUNEF/CUNEF/research/corrupting_hmms/solvers/aps_gibbs_class.py:58\u001b[0m, in \u001b[0;36maps_gibbs.update_z\u001b[0;34m(self, hmms, z, idx)\u001b[0m\n\u001b[1;32m     55\u001b[0m \u001b[38;5;28;01mfor\u001b[39;00m i, z_new \u001b[38;5;129;01min\u001b[39;00m \u001b[38;5;28menumerate\u001b[39m(Z_candidates):\n\u001b[1;32m     57\u001b[0m     \u001b[38;5;28;01mfor\u001b[39;00m hmm_sample \u001b[38;5;129;01min\u001b[39;00m hmms:\n\u001b[0;32m---> 58\u001b[0m         energies[i] \u001b[38;5;241m+\u001b[39m\u001b[38;5;241m=\u001b[39m np\u001b[38;5;241m.\u001b[39mlog( \u001b[38;5;28;43mself\u001b[39;49m\u001b[38;5;241;43m.\u001b[39;49m\u001b[43mattacker\u001b[49m\u001b[38;5;241;43m.\u001b[39;49m\u001b[43mutility\u001b[49m\u001b[43m(\u001b[49m\u001b[43mz_new\u001b[49m\u001b[43m,\u001b[49m\u001b[43m \u001b[49m\u001b[43mhmm_sample\u001b[49m\u001b[43m)\u001b[49m )\n\u001b[1;32m     60\u001b[0m p \u001b[38;5;241m=\u001b[39m softmax(energies)\n\u001b[1;32m     61\u001b[0m \u001b[38;5;66;03m# print(p)\u001b[39;00m\n\u001b[1;32m     62\u001b[0m \u001b[38;5;66;03m# print(energies)\u001b[39;00m\n",
      "File \u001b[0;32m~/Library/CloudStorage/OneDrive-CUNEF/CUNEF/research/corrupting_hmms/attackers/decoding_attacker.py:52\u001b[0m, in \u001b[0;36mdec_attacker.utility\u001b[0;34m(self, z, hmm)\u001b[0m\n\u001b[1;32m     50\u001b[0m \u001b[38;5;28;01mdef\u001b[39;00m \u001b[38;5;21mutility\u001b[39m(\u001b[38;5;28mself\u001b[39m, z, hmm):\n\u001b[0;32m---> 52\u001b[0m     Y \u001b[38;5;241m=\u001b[39m \u001b[38;5;28;43mself\u001b[39;49m\u001b[38;5;241;43m.\u001b[39;49m\u001b[43mattack_X\u001b[49m\u001b[43m(\u001b[49m\u001b[43mz_matrix\u001b[49m\u001b[43m \u001b[49m\u001b[38;5;241;43m=\u001b[39;49m\u001b[43m \u001b[49m\u001b[43mz\u001b[49m\u001b[43m,\u001b[49m\u001b[43m \u001b[49m\n\u001b[1;32m     53\u001b[0m \u001b[43m        \u001b[49m\u001b[43mrho_matrix\u001b[49m\u001b[43m \u001b[49m\u001b[38;5;241;43m=\u001b[39;49m\u001b[43m \u001b[49m\u001b[43mhmm\u001b[49m\u001b[38;5;241;43m.\u001b[39;49m\u001b[43mrho\u001b[49m\u001b[43m)\u001b[49m\u001b[38;5;241m.\u001b[39mastype(\u001b[38;5;124m'\u001b[39m\u001b[38;5;124mint\u001b[39m\u001b[38;5;124m'\u001b[39m)\n\u001b[1;32m     55\u001b[0m     \u001b[38;5;66;03m# Compute first term of utility\u001b[39;00m\n\u001b[1;32m     56\u001b[0m     V, _ \u001b[38;5;241m=\u001b[39m hmm\u001b[38;5;241m.\u001b[39mnu(Y)\n",
      "File \u001b[0;32m~/Library/CloudStorage/OneDrive-CUNEF/CUNEF/research/corrupting_hmms/attackers/decoding_attacker.py:106\u001b[0m, in \u001b[0;36mdec_attacker.attack_X\u001b[0;34m(self, rho_matrix, z_matrix)\u001b[0m\n\u001b[1;32m    104\u001b[0m j_obs \u001b[38;5;241m=\u001b[39m np\u001b[38;5;241m.\u001b[39marange(\u001b[38;5;241m0\u001b[39m,z_matrix\u001b[38;5;241m.\u001b[39mshape[\u001b[38;5;241m1\u001b[39m])\n\u001b[1;32m    105\u001b[0m y_t_1 \u001b[38;5;241m=\u001b[39m np\u001b[38;5;241m.\u001b[39mdot(z_matrix\u001b[38;5;241m*\u001b[39m rho_matrix, j_obs)\n\u001b[0;32m--> 106\u001b[0m y_t_2 \u001b[38;5;241m=\u001b[39m \u001b[43mnp\u001b[49m\u001b[38;5;241;43m.\u001b[39;49m\u001b[43msum\u001b[49m\u001b[43m(\u001b[49m\u001b[43mz_matrix\u001b[49m\u001b[43m \u001b[49m\u001b[38;5;241;43m*\u001b[39;49m\u001b[43m(\u001b[49m\u001b[38;5;241;43m1\u001b[39;49m\u001b[38;5;241;43m-\u001b[39;49m\u001b[43mrho_matrix\u001b[49m\u001b[43m)\u001b[49m\u001b[38;5;241;43m*\u001b[39;49m\u001b[43m \u001b[49m\u001b[38;5;28;43mself\u001b[39;49m\u001b[38;5;241;43m.\u001b[39;49m\u001b[43mX\u001b[49m\u001b[43m,\u001b[49m\u001b[43m \u001b[49m\u001b[43maxis\u001b[49m\u001b[43m \u001b[49m\u001b[38;5;241;43m=\u001b[39;49m\u001b[43m \u001b[49m\u001b[38;5;241;43m1\u001b[39;49m\u001b[43m)\u001b[49m\n\u001b[1;32m    107\u001b[0m y_t \u001b[38;5;241m=\u001b[39m (y_t_1 \u001b[38;5;241m+\u001b[39m y_t_2)\u001b[38;5;241m.\u001b[39mreshape(z_matrix\u001b[38;5;241m.\u001b[39mshape[\u001b[38;5;241m0\u001b[39m], \u001b[38;5;241m1\u001b[39m)\n\u001b[1;32m    109\u001b[0m \u001b[38;5;28;01mreturn\u001b[39;00m y_t\n",
      "File \u001b[0;32m~/miniconda3/envs/corrupting_hmms/lib/python3.11/site-packages/numpy/core/fromnumeric.py:2172\u001b[0m, in \u001b[0;36m_sum_dispatcher\u001b[0;34m(a, axis, dtype, out, keepdims, initial, where)\u001b[0m\n\u001b[1;32m   2102\u001b[0m \u001b[38;5;250m    \u001b[39m\u001b[38;5;124;03m\"\"\"\u001b[39;00m\n\u001b[1;32m   2103\u001b[0m \u001b[38;5;124;03m    Clip (limit) the values in an array.\u001b[39;00m\n\u001b[1;32m   2104\u001b[0m \n\u001b[0;32m   (...)\u001b[0m\n\u001b[1;32m   2167\u001b[0m \n\u001b[1;32m   2168\u001b[0m \u001b[38;5;124;03m    \"\"\"\u001b[39;00m\n\u001b[1;32m   2169\u001b[0m     \u001b[38;5;28;01mreturn\u001b[39;00m _wrapfunc(a, \u001b[38;5;124m'\u001b[39m\u001b[38;5;124mclip\u001b[39m\u001b[38;5;124m'\u001b[39m, a_min, a_max, out\u001b[38;5;241m=\u001b[39mout, \u001b[38;5;241m*\u001b[39m\u001b[38;5;241m*\u001b[39mkwargs)\n\u001b[0;32m-> 2172\u001b[0m \u001b[38;5;28;01mdef\u001b[39;00m \u001b[38;5;21m_sum_dispatcher\u001b[39m(a, axis\u001b[38;5;241m=\u001b[39m\u001b[38;5;28;01mNone\u001b[39;00m, dtype\u001b[38;5;241m=\u001b[39m\u001b[38;5;28;01mNone\u001b[39;00m, out\u001b[38;5;241m=\u001b[39m\u001b[38;5;28;01mNone\u001b[39;00m, keepdims\u001b[38;5;241m=\u001b[39m\u001b[38;5;28;01mNone\u001b[39;00m,\n\u001b[1;32m   2173\u001b[0m                     initial\u001b[38;5;241m=\u001b[39m\u001b[38;5;28;01mNone\u001b[39;00m, where\u001b[38;5;241m=\u001b[39m\u001b[38;5;28;01mNone\u001b[39;00m):\n\u001b[1;32m   2174\u001b[0m     \u001b[38;5;28;01mreturn\u001b[39;00m (a, out)\n\u001b[1;32m   2177\u001b[0m \u001b[38;5;129m@array_function_dispatch\u001b[39m(_sum_dispatcher)\n\u001b[1;32m   2178\u001b[0m \u001b[38;5;28;01mdef\u001b[39;00m \u001b[38;5;21msum\u001b[39m(a, axis\u001b[38;5;241m=\u001b[39m\u001b[38;5;28;01mNone\u001b[39;00m, dtype\u001b[38;5;241m=\u001b[39m\u001b[38;5;28;01mNone\u001b[39;00m, out\u001b[38;5;241m=\u001b[39m\u001b[38;5;28;01mNone\u001b[39;00m, keepdims\u001b[38;5;241m=\u001b[39mnp\u001b[38;5;241m.\u001b[39m_NoValue,\n\u001b[1;32m   2179\u001b[0m         initial\u001b[38;5;241m=\u001b[39mnp\u001b[38;5;241m.\u001b[39m_NoValue, where\u001b[38;5;241m=\u001b[39mnp\u001b[38;5;241m.\u001b[39m_NoValue):\n",
      "\u001b[0;31mKeyboardInterrupt\u001b[0m: "
     ]
    }
   ],
   "source": [
    "find_sol = aps_gibbs(att, cool, burnin=0.1, verbose=True)\n",
    "sol, samples = find_sol.iterate(simulation_seconds=None)"
   ]
  },
  {
   "cell_type": "code",
   "execution_count": null,
   "id": "c7ba176d-397a-4355-8fe2-c29f09f098a9",
   "metadata": {},
   "outputs": [],
   "source": [
    "attack_obs = att.attack_X(np.ones_like(sol), sol)\n",
    "attack_obs = attack_obs.squeeze().astype(int)\n",
    "V, seq = hmm_n.nu(attack_obs)\n",
    "probs, opt_s = hmm_n.nu(seq)"
   ]
  },
  {
   "cell_type": "code",
   "execution_count": null,
   "id": "b686ba6c-2df2-44fd-882b-5923bd5b82d4",
   "metadata": {},
   "outputs": [],
   "source": [
    "opt_s"
   ]
  },
  {
   "cell_type": "code",
   "execution_count": null,
   "id": "f0091026-db39-42f1-9832-bdd37a63395d",
   "metadata": {},
   "outputs": [],
   "source": [
    "np.argmax(sol, axis=1)"
   ]
  },
  {
   "cell_type": "code",
   "execution_count": null,
   "id": "4a17b82d-4c57-4c0a-b120-23249c3898b7",
   "metadata": {},
   "outputs": [],
   "source": [
    "A[0] == np.argmax(sol, axis=1)"
   ]
  },
  {
   "cell_type": "code",
   "execution_count": 48,
   "id": "2d402d27-7242-408e-aaf6-3363d161b763",
   "metadata": {},
   "outputs": [],
   "source": [
    "#word2id"
   ]
  },
  {
   "cell_type": "markdown",
   "id": "b77ce418-0265-4201-b8cf-a6434db15a74",
   "metadata": {},
   "source": [
    "# Attack HMM - RS"
   ]
  },
  {
   "cell_type": "code",
   "execution_count": 71,
   "id": "ba5513e1-bae6-416e-9f5f-5d0ed111b95a",
   "metadata": {},
   "outputs": [],
   "source": [
    "from solvers.nn_RS.nn_RS import nn_RS\n",
    "from attackers.decoding_attacker import dec_attacker"
   ]
  },
  {
   "cell_type": "code",
   "execution_count": 72,
   "id": "5b62a398-65c5-43a8-9e84-91d51065abcf",
   "metadata": {},
   "outputs": [],
   "source": [
    "T  = 53\n",
    "n_obs = 300\n",
    "n_hidden = 29\n",
    "w1 = 3.0\n",
    "w2 = 10.0 \n",
    "k_value = 1000000.0\n",
    "seq = 17*np.ones(T).astype(int)\n",
    "X = np.zeros( (1, len(data_reduced.Word.values[:T])) )\n",
    "for i in range(len(data_reduced.Word.values[:T])):\n",
    "    X[0, i] = word2id[data_reduced.Word.values[i]]\n",
    "\n",
    "###\n",
    "X = np.zeros( (1, len(data_reduced.Word.values[:T])) )\n",
    "for i in range(len(data_reduced.Word.values[:T])):\n",
    "    X[0, i] = word2id[data_reduced.Word.values[i]]\n",
    "    \n",
    "A =  X.astype(int)\n",
    "\n",
    "_, y_pred = hmm_n.nu(A[0])\n",
    "y_pred\n",
    "\n",
    "y = np.zeros(len(data_reduced.POS[:T]))\n",
    "for i in range(len(data_reduced.POS[:T])):\n",
    "    y[i] = tag2id[data_reduced.POS[:T].iloc[i]]\n",
    "###\n",
    "\n",
    "A =  X.astype(int)"
   ]
  },
  {
   "cell_type": "code",
   "execution_count": 73,
   "id": "b11a6b00-c13f-4288-9c1f-93ad4add672c",
   "metadata": {},
   "outputs": [],
   "source": [
    "rho_probs = np.ones(n_obs)\n",
    "att = dec_attacker(hmm_n.startprob_ , hmm_n.transmat_, hmm_n.emissionprob_, rho_probs,\n",
    "         A.T, w1, w2, seq, k_value)"
   ]
  },
  {
   "cell_type": "code",
   "execution_count": null,
   "id": "50bc38ef-3bea-4b34-8855-5b1bbac839ac",
   "metadata": {},
   "outputs": [
    {
     "name": "stdout",
     "output_type": "stream",
     "text": [
      "Percentage completed: 0.0\n",
      "Best value: \n",
      "0.0\n"
     ]
    },
    {
     "name": "stderr",
     "output_type": "stream",
     "text": [
      "/home/roi.naveiro/anaconda3/envs/corrupting_hmms/lib/python3.11/site-packages/torch/nn/modules/loss.py:536: UserWarning: Using a target size (torch.Size([1])) that is different to the input size (torch.Size([])). This will likely lead to incorrect results due to broadcasting. Please ensure they have the same size.\n",
      "  return F.mse_loss(input, target, reduction=self.reduction)\n"
     ]
    },
    {
     "name": "stdout",
     "output_type": "stream",
     "text": [
      "Percentage completed: 0.5\n",
      "Best value: \n",
      "194.0943434087174\n",
      "Percentage completed: 1.0\n",
      "Best value: \n",
      "197.3906491961464\n",
      "Percentage completed: 1.5\n",
      "Best value: \n",
      "197.3906491961464\n",
      "Percentage completed: 2.0\n",
      "Best value: \n",
      "197.3906491961464\n",
      "Percentage completed: 2.5\n",
      "Best value: \n",
      "200.93209820919256\n",
      "Percentage completed: 3.0\n",
      "Best value: \n",
      "200.93209820919256\n",
      "Percentage completed: 3.5\n",
      "Best value: \n",
      "200.93209820919256\n",
      "Percentage completed: 4.0\n",
      "Best value: \n",
      "200.93209820919256\n",
      "Percentage completed: 4.5\n",
      "Best value: \n",
      "200.93209820919256\n",
      "Percentage completed: 5.0\n",
      "Best value: \n",
      "203.0032315971511\n",
      "Percentage completed: 5.5\n",
      "Best value: \n",
      "203.0032315971511\n",
      "Percentage completed: 6.0\n",
      "Best value: \n",
      "203.0032315971511\n",
      "Percentage completed: 6.5\n",
      "Best value: \n",
      "203.0032315971511\n",
      "Percentage completed: 7.0\n",
      "Best value: \n",
      "205.25532986588678\n",
      "Percentage completed: 7.5\n",
      "Best value: \n",
      "205.25532986588678\n",
      "Percentage completed: 8.0\n",
      "Best value: \n",
      "205.25532986588678\n",
      "Percentage completed: 8.5\n",
      "Best value: \n",
      "210.3744325762876\n",
      "Percentage completed: 9.0\n",
      "Best value: \n",
      "210.3744325762876\n",
      "Percentage completed: 9.5\n",
      "Best value: \n",
      "210.3744325762876\n",
      "Percentage completed: 10.0\n",
      "Best value: \n",
      "210.3744325762876\n",
      "Percentage completed: 10.5\n",
      "Best value: \n",
      "210.3744325762876\n",
      "Percentage completed: 11.0\n",
      "Best value: \n",
      "210.3744325762876\n",
      "Percentage completed: 11.5\n",
      "Best value: \n",
      "210.3744325762876\n",
      "Percentage completed: 12.0\n",
      "Best value: \n",
      "210.3744325762876\n",
      "Percentage completed: 12.5\n",
      "Best value: \n",
      "210.3744325762876\n",
      "Percentage completed: 13.0\n",
      "Best value: \n",
      "210.3744325762876\n",
      "Percentage completed: 13.5\n",
      "Best value: \n",
      "210.3744325762876\n",
      "Percentage completed: 14.0\n",
      "Best value: \n",
      "210.3744325762876\n",
      "Percentage completed: 14.5\n",
      "Best value: \n",
      "210.3744325762876\n",
      "Percentage completed: 15.0\n",
      "Best value: \n",
      "210.3744325762876\n",
      "Percentage completed: 15.5\n",
      "Best value: \n",
      "216.78090916422337\n",
      "Percentage completed: 16.0\n",
      "Best value: \n",
      "216.78090916422337\n",
      "Percentage completed: 16.5\n",
      "Best value: \n",
      "216.78090916422337\n",
      "Percentage completed: 17.0\n",
      "Best value: \n",
      "216.78090916422337\n",
      "Percentage completed: 17.5\n",
      "Best value: \n",
      "216.78090916422337\n",
      "Percentage completed: 18.0\n",
      "Best value: \n",
      "216.78090916422337\n",
      "Percentage completed: 18.5\n",
      "Best value: \n",
      "216.78090916422337\n",
      "Percentage completed: 19.0\n",
      "Best value: \n",
      "216.78090916422337\n",
      "Percentage completed: 19.5\n",
      "Best value: \n",
      "218.11000210470652\n",
      "Percentage completed: 20.0\n",
      "Best value: \n",
      "235.46372860695692\n",
      "Percentage completed: 20.5\n",
      "Best value: \n",
      "235.46372860695692\n",
      "Percentage completed: 21.0\n",
      "Best value: \n",
      "235.46372860695692\n",
      "Percentage completed: 21.5\n",
      "Best value: \n",
      "235.46372860695692\n",
      "Percentage completed: 22.0\n",
      "Best value: \n",
      "235.46372860695692\n",
      "Percentage completed: 22.5\n",
      "Best value: \n",
      "235.46372860695692\n",
      "Percentage completed: 23.0\n",
      "Best value: \n",
      "235.46372860695692\n",
      "Percentage completed: 23.5\n",
      "Best value: \n",
      "235.46372860695692\n",
      "Percentage completed: 24.0\n",
      "Best value: \n",
      "235.46372860695692\n",
      "Percentage completed: 24.5\n",
      "Best value: \n",
      "235.46372860695692\n",
      "Percentage completed: 25.0\n",
      "Best value: \n",
      "235.46372860695692\n",
      "Percentage completed: 25.5\n",
      "Best value: \n",
      "235.46372860695692\n",
      "Percentage completed: 26.0\n",
      "Best value: \n",
      "235.46372860695692\n",
      "Percentage completed: 26.5\n",
      "Best value: \n",
      "235.46372860695692\n",
      "Percentage completed: 27.0\n",
      "Best value: \n",
      "235.46372860695692\n",
      "Percentage completed: 27.5\n",
      "Best value: \n",
      "235.46372860695692\n",
      "Percentage completed: 28.0\n",
      "Best value: \n",
      "235.46372860695692\n",
      "Percentage completed: 28.5\n",
      "Best value: \n",
      "235.46372860695692\n",
      "Percentage completed: 29.0\n",
      "Best value: \n",
      "235.46372860695692\n",
      "Percentage completed: 29.5\n",
      "Best value: \n",
      "235.46372860695692\n",
      "Percentage completed: 30.0\n",
      "Best value: \n",
      "235.46372860695692\n",
      "Percentage completed: 30.5\n",
      "Best value: \n",
      "235.46372860695692\n",
      "Percentage completed: 31.0\n",
      "Best value: \n",
      "235.46372860695692\n",
      "Percentage completed: 31.5\n",
      "Best value: \n",
      "235.46372860695692\n",
      "Percentage completed: 32.0\n",
      "Best value: \n",
      "235.46372860695692\n",
      "Percentage completed: 32.5\n",
      "Best value: \n",
      "249.6259587914311\n",
      "Percentage completed: 33.0\n",
      "Best value: \n",
      "249.6259587914311\n",
      "Percentage completed: 33.5\n",
      "Best value: \n",
      "249.6259587914311\n",
      "Percentage completed: 34.0\n",
      "Best value: \n",
      "249.6259587914311\n",
      "Percentage completed: 34.5\n",
      "Best value: \n",
      "249.6259587914311\n",
      "Percentage completed: 35.0\n",
      "Best value: \n",
      "249.6259587914311\n",
      "Percentage completed: 35.5\n",
      "Best value: \n",
      "249.6259587914311\n",
      "Percentage completed: 36.0\n",
      "Best value: \n",
      "249.6259587914311\n",
      "Percentage completed: 36.5\n",
      "Best value: \n",
      "249.6259587914311\n",
      "Percentage completed: 37.0\n",
      "Best value: \n",
      "250.1588118681247\n",
      "Percentage completed: 37.5\n",
      "Best value: \n",
      "250.1588118681247\n",
      "Percentage completed: 38.0\n",
      "Best value: \n",
      "250.1588118681247\n",
      "Percentage completed: 38.5\n",
      "Best value: \n",
      "250.1588118681247\n",
      "Percentage completed: 39.0\n",
      "Best value: \n",
      "250.1588118681247\n",
      "Percentage completed: 39.5\n",
      "Best value: \n",
      "250.1588118681247\n",
      "Percentage completed: 40.0\n",
      "Best value: \n",
      "250.1588118681247\n",
      "Percentage completed: 40.5\n",
      "Best value: \n",
      "250.1588118681247\n",
      "Percentage completed: 41.0\n",
      "Best value: \n",
      "250.1588118681247\n",
      "Percentage completed: 41.5\n",
      "Best value: \n",
      "250.1588118681247\n",
      "Percentage completed: 42.0\n",
      "Best value: \n",
      "250.1588118681247\n",
      "Percentage completed: 42.5\n",
      "Best value: \n",
      "250.1588118681247\n",
      "Percentage completed: 43.0\n",
      "Best value: \n",
      "250.1588118681247\n",
      "Percentage completed: 43.5\n",
      "Best value: \n",
      "250.1588118681247\n",
      "Percentage completed: 44.0\n",
      "Best value: \n",
      "250.1588118681247\n",
      "Percentage completed: 44.5\n",
      "Best value: \n",
      "250.1588118681247\n",
      "Percentage completed: 45.0\n",
      "Best value: \n",
      "250.1588118681247\n",
      "Percentage completed: 45.5\n",
      "Best value: \n",
      "252.14665284067405\n",
      "Percentage completed: 46.0\n",
      "Best value: \n",
      "252.14665284067405\n",
      "Percentage completed: 46.5\n",
      "Best value: \n",
      "252.14665284067405\n",
      "Percentage completed: 47.0\n",
      "Best value: \n",
      "252.14665284067405\n",
      "Percentage completed: 47.5\n",
      "Best value: \n",
      "252.14665284067405\n",
      "Percentage completed: 48.0\n",
      "Best value: \n",
      "253.24178065371635\n",
      "Percentage completed: 48.5\n",
      "Best value: \n",
      "253.24178065371635\n",
      "Percentage completed: 49.0\n",
      "Best value: \n",
      "253.24178065371635\n",
      "Percentage completed: 49.5\n",
      "Best value: \n",
      "259.09463154454227\n",
      "Percentage completed: 50.0\n",
      "Best value: \n",
      "259.09463154454227\n",
      "Percentage completed: 50.5\n",
      "Best value: \n",
      "259.09463154454227\n",
      "Percentage completed: 51.0\n",
      "Best value: \n",
      "259.09463154454227\n",
      "Percentage completed: 51.5\n",
      "Best value: \n",
      "259.09463154454227\n",
      "Percentage completed: 52.0\n",
      "Best value: \n",
      "259.09463154454227\n",
      "Percentage completed: 52.5\n",
      "Best value: \n",
      "259.09463154454227\n",
      "Percentage completed: 53.0\n",
      "Best value: \n",
      "259.09463154454227\n",
      "Percentage completed: 53.5\n",
      "Best value: \n",
      "259.09463154454227\n",
      "Percentage completed: 54.0\n",
      "Best value: \n",
      "259.09463154454227\n",
      "Percentage completed: 54.5\n",
      "Best value: \n",
      "259.09463154454227\n",
      "Percentage completed: 55.0\n",
      "Best value: \n",
      "259.09463154454227\n",
      "Percentage completed: 55.5\n",
      "Best value: \n",
      "259.09463154454227\n",
      "Percentage completed: 56.0\n",
      "Best value: \n",
      "259.09463154454227\n",
      "Percentage completed: 56.5\n",
      "Best value: \n",
      "259.09463154454227\n",
      "Percentage completed: 57.0\n",
      "Best value: \n",
      "259.09463154454227\n",
      "Percentage completed: 57.5\n",
      "Best value: \n",
      "259.09463154454227\n",
      "Percentage completed: 58.0\n",
      "Best value: \n",
      "259.09463154454227\n",
      "Percentage completed: 58.5\n",
      "Best value: \n",
      "259.09463154454227\n",
      "Percentage completed: 59.0\n",
      "Best value: \n",
      "259.09463154454227\n",
      "Percentage completed: 59.5\n",
      "Best value: \n",
      "259.09463154454227\n",
      "Percentage completed: 60.0\n",
      "Best value: \n",
      "259.09463154454227\n",
      "Percentage completed: 60.5\n",
      "Best value: \n",
      "263.3627812424148\n"
     ]
    }
   ],
   "source": [
    "find_sol = nn_RS(att, \"SA\", RS_iters=10000, mcts_iters=10, sa_iters=10, eps=0.05, lr=0.005, verbose=True)\n",
    "sol, samples = find_sol.iterate(simulation_seconds=None)"
   ]
  },
  {
   "cell_type": "code",
   "execution_count": 31,
   "id": "c1a3a805-998d-4717-ba88-30bae0b013af",
   "metadata": {},
   "outputs": [],
   "source": [
    "attack_obs = att.attack_X(np.ones_like(sol), sol)\n",
    "attack_obs = attack_obs.squeeze().astype(int)\n",
    "V, seq = hmm_n.nu(attack_obs)\n",
    "probs, opt_s = hmm_n.nu(seq)"
   ]
  },
  {
   "cell_type": "code",
   "execution_count": 32,
   "id": "617dab0e-5a8f-4175-b9c7-26205987ac04",
   "metadata": {},
   "outputs": [
    {
     "data": {
      "text/plain": [
       "array([17, 17,  2, 17, 13, 12, 12,  2, 17, 17, 17, 17, 12, 12, 17,  2, 12,\n",
       "       17, 12,  2, 17, 15,  2, 17, 12,  4,  2, 17,  4, 17,  4, 17, 13, 17,\n",
       "       12, 17,  2, 12, 17, 12,  2,  2, 12,  4, 20, 17, 17,  4, 17,  4, 12,\n",
       "       17, 17])"
      ]
     },
     "execution_count": 32,
     "metadata": {},
     "output_type": "execute_result"
    }
   ],
   "source": [
    "opt_s"
   ]
  },
  {
   "cell_type": "code",
   "execution_count": 25,
   "id": "72613307-a94e-49a0-a1c8-eaa5a5b512d6",
   "metadata": {},
   "outputs": [
    {
     "data": {
      "text/plain": [
       "{'CC': 0,\n",
       " 'VBD': 1,\n",
       " 'NN': 2,\n",
       " '``': 3,\n",
       " 'NNP': 4,\n",
       " 'RBR': 5,\n",
       " '$': 6,\n",
       " 'LRB': 7,\n",
       " '.': 8,\n",
       " 'NNPS': 9,\n",
       " 'MD': 10,\n",
       " 'JJR': 11,\n",
       " 'JJ': 12,\n",
       " 'VBN': 13,\n",
       " ',': 14,\n",
       " 'VBP': 15,\n",
       " 'RB': 16,\n",
       " 'NNS': 17,\n",
       " 'POS': 18,\n",
       " 'IN': 19,\n",
       " 'VB': 20,\n",
       " 'RRB': 21,\n",
       " 'CD': 22,\n",
       " 'VBG': 23,\n",
       " ':': 24,\n",
       " 'PRP': 25,\n",
       " 'JJS': 26,\n",
       " 'DT': 27,\n",
       " 'VBZ': 28}"
      ]
     },
     "execution_count": 25,
     "metadata": {},
     "output_type": "execute_result"
    }
   ],
   "source": [
    "tag2id"
   ]
  },
  {
   "cell_type": "code",
   "execution_count": 33,
   "id": "b497c2f7-81c8-48af-8d0d-773166bdb7fe",
   "metadata": {},
   "outputs": [
    {
     "data": {
      "text/plain": [
       "array([17.,  2.,  4., 12., 17.,  2.,  8., 17., 13.,  3.,  4.,  2., 22.,\n",
       "        2.,  3.,  3.,  8.,  3.,  2.,  8., 17.,  2.,  8.,  4., 18.,  4.,\n",
       "       12.,  8.,  2.,  4., 18.,  4., 12., 17.,  2.,  8.,  2.,  1., 14.,\n",
       "       23., 14., 14.,  8.,  4.,  4.,  4., 12.,  2., 17.,  4.,  4., 18.,\n",
       "        8.])"
      ]
     },
     "execution_count": 33,
     "metadata": {},
     "output_type": "execute_result"
    }
   ],
   "source": [
    "y"
   ]
  },
  {
   "cell_type": "code",
   "execution_count": 34,
   "id": "3b3a73df-31f0-4ac3-9eac-4ae3f1312889",
   "metadata": {},
   "outputs": [
    {
     "data": {
      "text/plain": [
       "189.48903782265936"
      ]
     },
     "execution_count": 34,
     "metadata": {},
     "output_type": "execute_result"
    }
   ],
   "source": [
    "att.expected_utility(sol)"
   ]
  },
  {
   "cell_type": "code",
   "execution_count": 69,
   "id": "ed255ee8-e92c-44fb-adb5-e4691697d20b",
   "metadata": {},
   "outputs": [
    {
     "data": {
      "text/plain": [
       "['deal',\n",
       " 'court',\n",
       " 'several',\n",
       " 'afghanistan',\n",
       " 'accused',\n",
       " 'officials',\n",
       " 'countries',\n",
       " 'iranian',\n",
       " 'washington',\n",
       " 'turkey',\n",
       " 'percent',\n",
       " 'chavez',\n",
       " 'one',\n",
       " 'nations',\n",
       " 'venezuela',\n",
       " 'pakistani',\n",
       " 'five',\n",
       " 'fighting',\n",
       " 'elections',\n",
       " 'early',\n",
       " '(',\n",
       " 'told',\n",
       " 'nuclear',\n",
       " 'town',\n",
       " 'militants',\n",
       " 'says',\n",
       " 'russian',\n",
       " 'fire',\n",
       " 'confirmed',\n",
       " 'percent',\n",
       " 'left',\n",
       " 'office',\n",
       " 'found',\n",
       " 'city',\n",
       " 'media',\n",
       " 'growth',\n",
       " 'could',\n",
       " 'officials',\n",
       " 'growth',\n",
       " '10',\n",
       " 'several',\n",
       " 'prime',\n",
       " 'attacks',\n",
       " 'million',\n",
       " 'make',\n",
       " 'opposition',\n",
       " 'force',\n",
       " \"'\",\n",
       " 'town',\n",
       " 'called',\n",
       " 'reports',\n",
       " 'india',\n",
       " 'taleban']"
      ]
     },
     "execution_count": 69,
     "metadata": {},
     "output_type": "execute_result"
    }
   ],
   "source": [
    "seq2word(np.argmax(sol, axis=1))"
   ]
  },
  {
   "cell_type": "code",
   "execution_count": 68,
   "id": "2af8b3d4-0e93-4598-ab95-096057445e36",
   "metadata": {},
   "outputs": [
    {
     "data": {
      "text/plain": [
       "['thousands',\n",
       " 'war',\n",
       " 'iraq',\n",
       " 'british',\n",
       " 'troops',\n",
       " 'country',\n",
       " '.',\n",
       " 'soldiers',\n",
       " 'killed',\n",
       " '\"',\n",
       " 'bush',\n",
       " 'number',\n",
       " 'one',\n",
       " 'terrorist',\n",
       " '\"',\n",
       " '\"',\n",
       " '.',\n",
       " '\"',\n",
       " 'parliament',\n",
       " '.',\n",
       " 'police',\n",
       " 'number',\n",
       " '.',\n",
       " 'britain',\n",
       " \"'s\",\n",
       " 'party',\n",
       " 'southern',\n",
       " '.',\n",
       " 'party',\n",
       " 'britain',\n",
       " \"'s\",\n",
       " 'iraq',\n",
       " 'british',\n",
       " 'troops',\n",
       " 'country',\n",
       " '.',\n",
       " 'march',\n",
       " 'came',\n",
       " ',',\n",
       " 'including',\n",
       " ',',\n",
       " ',',\n",
       " '.',\n",
       " 'international',\n",
       " 'energy',\n",
       " 'agency',\n",
       " 'second',\n",
       " 'day',\n",
       " 'talks',\n",
       " 'wednesday',\n",
       " 'iran',\n",
       " \"'s\",\n",
       " '.']"
      ]
     },
     "execution_count": 68,
     "metadata": {},
     "output_type": "execute_result"
    }
   ],
   "source": [
    "seq2word(A[0])"
   ]
  },
  {
   "cell_type": "code",
   "execution_count": 38,
   "id": "100a72d2-1197-42db-8e14-8573ab285c75",
   "metadata": {},
   "outputs": [
    {
     "data": {
      "text/plain": [
       "array([243, 286, 113,  31, 200,  23, 146, 141,  83,   9,  47, 282, 222,\n",
       "        39, 119,  86, 220, 250, 290, 160, 136,  35, 235, 261, 166, 102,\n",
       "       132, 241, 143,  47, 228, 216, 120,  10,  56, 189, 100,  23, 189,\n",
       "       112, 113, 124, 144, 234,  20, 205, 242,  48, 261, 105,  53, 155,\n",
       "       224])"
      ]
     },
     "execution_count": 38,
     "metadata": {},
     "output_type": "execute_result"
    }
   ],
   "source": [
    "np.argmax(sol, axis=1)"
   ]
  },
  {
   "cell_type": "code",
   "execution_count": 70,
   "id": "7b9c0cd0-93f3-475e-b865-07a56e8992fb",
   "metadata": {},
   "outputs": [
    {
     "data": {
      "text/plain": [
       "array([False, False, False, False, False, False, False, False, False,\n",
       "       False, False, False,  True, False, False, False, False, False,\n",
       "       False, False, False, False, False, False, False, False, False,\n",
       "       False, False, False, False, False, False, False, False, False,\n",
       "       False, False, False, False, False, False, False, False, False,\n",
       "       False, False, False, False, False, False, False, False])"
      ]
     },
     "execution_count": 70,
     "metadata": {},
     "output_type": "execute_result"
    }
   ],
   "source": [
    "A[0] == np.argmax(sol, axis=1)"
   ]
  },
  {
   "cell_type": "code",
   "execution_count": 23,
   "id": "827f8ee7-ba26-4131-a67c-de3c9f9c18b1",
   "metadata": {},
   "outputs": [
    {
     "data": {
      "text/plain": [
       "array([116, 193,  98,  16, 171, 288, 108, 252,  13,  57, 215, 266, 222,\n",
       "       258,  57,  57, 108,  57, 186, 108, 292, 266, 108,  87,  44, 213,\n",
       "        51, 108, 213,  87,  44,  98,  16, 171, 288, 108,  84, 236, 253,\n",
       "       153, 253, 253, 108,  34, 231,  69,  26, 172, 275,  55, 272,  44,\n",
       "       108])"
      ]
     },
     "execution_count": 23,
     "metadata": {},
     "output_type": "execute_result"
    }
   ],
   "source": [
    "A[0]"
   ]
  },
  {
   "cell_type": "code",
   "execution_count": 35,
   "id": "d09671ed-7eef-4de7-91ae-ea342362a6bc",
   "metadata": {},
   "outputs": [
    {
     "data": {
      "text/plain": [
       "array([ 80, 182,  82, 170, 146, 161, 281,  62, 187, 172, 268,  69, 279,\n",
       "        47, 172, 172, 281, 172, 183, 281, 114,  69, 281, 231, 142,  56,\n",
       "       116, 281,  56, 231, 142,  82, 170, 146, 161, 281, 131, 276, 121,\n",
       "        22, 121, 121, 281,  68, 244, 232,  42, 149, 105, 265,  14, 142,\n",
       "       281])"
      ]
     },
     "execution_count": 35,
     "metadata": {},
     "output_type": "execute_result"
    }
   ],
   "source": [
    "np.argmax(sol, axis=1)"
   ]
  }
 ],
 "metadata": {
  "kernelspec": {
   "display_name": "Python 3 (ipykernel)",
   "language": "python",
   "name": "python3"
  },
  "language_info": {
   "codemirror_mode": {
    "name": "ipython",
    "version": 3
   },
   "file_extension": ".py",
   "mimetype": "text/x-python",
   "name": "python",
   "nbconvert_exporter": "python",
   "pygments_lexer": "ipython3",
   "version": "3.11.5"
  }
 },
 "nbformat": 4,
 "nbformat_minor": 5
}
