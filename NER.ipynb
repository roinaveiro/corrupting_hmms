{
 "cells": [
  {
   "cell_type": "code",
   "execution_count": 1,
   "id": "96f6a1f4",
   "metadata": {},
   "outputs": [
    {
     "name": "stderr",
     "output_type": "stream",
     "text": [
      "[nltk_data] Downloading package stopwords to\n",
      "[nltk_data]     /Users/roinaveiro/nltk_data...\n",
      "[nltk_data]   Package stopwords is already up-to-date!\n"
     ]
    }
   ],
   "source": [
    "import numpy as np\n",
    "from hmm_utils import HMM\n",
    "from params import *\n",
    "\n",
    "import numpy as np  # linear algebra\n",
    "import pandas as pd  # data processing, CSV file I/O (e.g. pd.read_csv)\n",
    "from tqdm import tqdm\n",
    "import random\n",
    "\n",
    "#some other libraries\n",
    "import re\n",
    "import nltk\n",
    "from nltk.corpus import stopwords\n",
    "nltk.download('stopwords')\n",
    "\n",
    "from typing import List\n",
    "\n",
    "from sklearn.model_selection import GroupShuffleSplit\n",
    "from sklearn.metrics import confusion_matrix, classification_report, accuracy_score, precision_score, recall_score, \\\n",
    "    f1_score, roc_auc_score"
   ]
  },
  {
   "cell_type": "markdown",
   "id": "07b2cb82-661b-4306-a3ad-37befc502eb9",
   "metadata": {},
   "source": [
    "## Perprocessing"
   ]
  },
  {
   "cell_type": "code",
   "execution_count": 2,
   "id": "b4ef3e52-1d4d-49a9-8abe-b226f51bafad",
   "metadata": {},
   "outputs": [
    {
     "name": "stderr",
     "output_type": "stream",
     "text": [
      "/var/folders/6t/g0m1dgb95tl74_1f_f518pjh0000gn/T/ipykernel_2893/2847341886.py:2: FutureWarning: DataFrame.fillna with 'method' is deprecated and will raise in a future version. Use obj.ffill() or obj.bfill() instead.\n",
      "  data = data.fillna(method=\"ffill\")\n"
     ]
    },
    {
     "data": {
      "text/html": [
       "<div>\n",
       "<style scoped>\n",
       "    .dataframe tbody tr th:only-of-type {\n",
       "        vertical-align: middle;\n",
       "    }\n",
       "\n",
       "    .dataframe tbody tr th {\n",
       "        vertical-align: top;\n",
       "    }\n",
       "\n",
       "    .dataframe thead th {\n",
       "        text-align: right;\n",
       "    }\n",
       "</style>\n",
       "<table border=\"1\" class=\"dataframe\">\n",
       "  <thead>\n",
       "    <tr style=\"text-align: right;\">\n",
       "      <th></th>\n",
       "      <th>sentence</th>\n",
       "      <th>Word</th>\n",
       "      <th>POS</th>\n",
       "      <th>Tag</th>\n",
       "    </tr>\n",
       "  </thead>\n",
       "  <tbody>\n",
       "    <tr>\n",
       "      <th>0</th>\n",
       "      <td>Sentence: 1</td>\n",
       "      <td>Thousands</td>\n",
       "      <td>NNS</td>\n",
       "      <td>O</td>\n",
       "    </tr>\n",
       "    <tr>\n",
       "      <th>1</th>\n",
       "      <td>Sentence: 1</td>\n",
       "      <td>of</td>\n",
       "      <td>IN</td>\n",
       "      <td>O</td>\n",
       "    </tr>\n",
       "    <tr>\n",
       "      <th>2</th>\n",
       "      <td>Sentence: 1</td>\n",
       "      <td>demonstrators</td>\n",
       "      <td>NNS</td>\n",
       "      <td>O</td>\n",
       "    </tr>\n",
       "    <tr>\n",
       "      <th>3</th>\n",
       "      <td>Sentence: 1</td>\n",
       "      <td>have</td>\n",
       "      <td>VBP</td>\n",
       "      <td>O</td>\n",
       "    </tr>\n",
       "    <tr>\n",
       "      <th>4</th>\n",
       "      <td>Sentence: 1</td>\n",
       "      <td>marched</td>\n",
       "      <td>VBN</td>\n",
       "      <td>O</td>\n",
       "    </tr>\n",
       "  </tbody>\n",
       "</table>\n",
       "</div>"
      ],
      "text/plain": [
       "      sentence           Word  POS Tag\n",
       "0  Sentence: 1      Thousands  NNS   O\n",
       "1  Sentence: 1             of   IN   O\n",
       "2  Sentence: 1  demonstrators  NNS   O\n",
       "3  Sentence: 1           have  VBP   O\n",
       "4  Sentence: 1        marched  VBN   O"
      ]
     },
     "execution_count": 2,
     "metadata": {},
     "output_type": "execute_result"
    }
   ],
   "source": [
    "data = pd.read_csv(\"data/ner.csv\", encoding = \"latin1\")\n",
    "data = data.fillna(method=\"ffill\")\n",
    "data = data.rename(columns={'Sentence #': 'sentence'})\n",
    "data.head(5)"
   ]
  },
  {
   "cell_type": "code",
   "execution_count": 3,
   "id": "4accc255-b639-4327-ad82-ce4d2b30d02b",
   "metadata": {},
   "outputs": [],
   "source": [
    "def pre_processing(text_column):\n",
    "    # lowercase all text in the column\n",
    "    text_column = text_column.str.lower()\n",
    "\n",
    "    # replacing numbers with NUM token\n",
    "    text_column = text_column.str.replace(r'\\d+', 'NUM')\n",
    "\n",
    "    # removing stopwords\n",
    "    stop_words = set(stopwords.words('english'))\n",
    "    text_column = text_column.apply(lambda x: ' '.join([word for word in x.split() if word not in stop_words]))\n",
    "\n",
    "    return text_column\n",
    "\n",
    "data_pre_precessed = pre_processing(data.Word)\n",
    "#creating new dataframe with preprocessed word as a column\n",
    "data_processed = data\n",
    "data_processed['Word'] = data_pre_precessed\n",
    "\n",
    "#removing the rows where word is empty\n",
    "data_processed = data_processed[(data_processed['Word'] != '') | (data_processed['Word'].isna())]"
   ]
  },
  {
   "cell_type": "code",
   "execution_count": 4,
   "id": "8b8d72cf-4632-4fa2-82f0-e1cabd9a249f",
   "metadata": {},
   "outputs": [
    {
     "data": {
      "text/html": [
       "<div>\n",
       "<style scoped>\n",
       "    .dataframe tbody tr th:only-of-type {\n",
       "        vertical-align: middle;\n",
       "    }\n",
       "\n",
       "    .dataframe tbody tr th {\n",
       "        vertical-align: top;\n",
       "    }\n",
       "\n",
       "    .dataframe thead th {\n",
       "        text-align: right;\n",
       "    }\n",
       "</style>\n",
       "<table border=\"1\" class=\"dataframe\">\n",
       "  <thead>\n",
       "    <tr style=\"text-align: right;\">\n",
       "      <th></th>\n",
       "      <th>sentence</th>\n",
       "      <th>Word</th>\n",
       "      <th>POS</th>\n",
       "      <th>Tag</th>\n",
       "    </tr>\n",
       "  </thead>\n",
       "  <tbody>\n",
       "    <tr>\n",
       "      <th>0</th>\n",
       "      <td>Sentence: 1</td>\n",
       "      <td>thousands</td>\n",
       "      <td>NNS</td>\n",
       "      <td>O</td>\n",
       "    </tr>\n",
       "    <tr>\n",
       "      <th>2</th>\n",
       "      <td>Sentence: 1</td>\n",
       "      <td>demonstrators</td>\n",
       "      <td>NNS</td>\n",
       "      <td>O</td>\n",
       "    </tr>\n",
       "    <tr>\n",
       "      <th>4</th>\n",
       "      <td>Sentence: 1</td>\n",
       "      <td>marched</td>\n",
       "      <td>VBN</td>\n",
       "      <td>O</td>\n",
       "    </tr>\n",
       "    <tr>\n",
       "      <th>6</th>\n",
       "      <td>Sentence: 1</td>\n",
       "      <td>london</td>\n",
       "      <td>NNP</td>\n",
       "      <td>B-geo</td>\n",
       "    </tr>\n",
       "    <tr>\n",
       "      <th>8</th>\n",
       "      <td>Sentence: 1</td>\n",
       "      <td>protest</td>\n",
       "      <td>VB</td>\n",
       "      <td>O</td>\n",
       "    </tr>\n",
       "    <tr>\n",
       "      <th>...</th>\n",
       "      <td>...</td>\n",
       "      <td>...</td>\n",
       "      <td>...</td>\n",
       "      <td>...</td>\n",
       "    </tr>\n",
       "    <tr>\n",
       "      <th>1048567</th>\n",
       "      <td>Sentence: 47959</td>\n",
       "      <td>indian</td>\n",
       "      <td>JJ</td>\n",
       "      <td>B-gpe</td>\n",
       "    </tr>\n",
       "    <tr>\n",
       "      <th>1048568</th>\n",
       "      <td>Sentence: 47959</td>\n",
       "      <td>forces</td>\n",
       "      <td>NNS</td>\n",
       "      <td>O</td>\n",
       "    </tr>\n",
       "    <tr>\n",
       "      <th>1048569</th>\n",
       "      <td>Sentence: 47959</td>\n",
       "      <td>said</td>\n",
       "      <td>VBD</td>\n",
       "      <td>O</td>\n",
       "    </tr>\n",
       "    <tr>\n",
       "      <th>1048571</th>\n",
       "      <td>Sentence: 47959</td>\n",
       "      <td>responded</td>\n",
       "      <td>VBD</td>\n",
       "      <td>O</td>\n",
       "    </tr>\n",
       "    <tr>\n",
       "      <th>1048574</th>\n",
       "      <td>Sentence: 47959</td>\n",
       "      <td>attack</td>\n",
       "      <td>NN</td>\n",
       "      <td>O</td>\n",
       "    </tr>\n",
       "  </tbody>\n",
       "</table>\n",
       "<p>700219 rows × 4 columns</p>\n",
       "</div>"
      ],
      "text/plain": [
       "                sentence           Word  POS    Tag\n",
       "0            Sentence: 1      thousands  NNS      O\n",
       "2            Sentence: 1  demonstrators  NNS      O\n",
       "4            Sentence: 1        marched  VBN      O\n",
       "6            Sentence: 1         london  NNP  B-geo\n",
       "8            Sentence: 1        protest   VB      O\n",
       "...                  ...            ...  ...    ...\n",
       "1048567  Sentence: 47959         indian   JJ  B-gpe\n",
       "1048568  Sentence: 47959         forces  NNS      O\n",
       "1048569  Sentence: 47959           said  VBD      O\n",
       "1048571  Sentence: 47959      responded  VBD      O\n",
       "1048574  Sentence: 47959         attack   NN      O\n",
       "\n",
       "[700219 rows x 4 columns]"
      ]
     },
     "execution_count": 4,
     "metadata": {},
     "output_type": "execute_result"
    }
   ],
   "source": [
    "data_processed"
   ]
  },
  {
   "cell_type": "markdown",
   "id": "fa3c7fbf-31c5-408e-87fc-7a4f7f717035",
   "metadata": {},
   "source": [
    "# Select most common words "
   ]
  },
  {
   "cell_type": "code",
   "execution_count": 5,
   "id": "df28de6f-20b0-47f6-a82c-e3f63294f3b1",
   "metadata": {},
   "outputs": [
    {
     "data": {
      "text/plain": [
       "array(['$', ',', '.', ':', 'CC', 'CD', 'DT', 'IN', 'JJ', 'JJR', 'JJS',\n",
       "       'LRB', 'MD', 'NN', 'NNP', 'NNPS', 'NNS', 'POS', 'PRP', 'RB', 'RBR',\n",
       "       'RRB', 'VB', 'VBD', 'VBG', 'VBN', 'VBP', 'VBZ', '``'], dtype='<U4')"
      ]
     },
     "execution_count": 5,
     "metadata": {},
     "output_type": "execute_result"
    }
   ],
   "source": [
    "# Most common words\n",
    "N_w = 300\n",
    "common_words = data_processed['Word'].value_counts().sort_values(ascending=False)[:N_w].index\n",
    "data_reduced = data_processed[data_processed['Word'].isin(common_words)]\n",
    "\n",
    "tags = list(set(data_reduced.POS.values))  # Unique POS tags in the dataset\n",
    "words = list(set(data_reduced.Word.values))  # Unique words in the dataset\n",
    "len(tags), len(words)\n",
    "\n",
    "tags = np.sort(tags)\n",
    "tags"
   ]
  },
  {
   "cell_type": "code",
   "execution_count": 6,
   "id": "8d4e1c91-6cb9-4823-a5dd-9192addbd0f0",
   "metadata": {},
   "outputs": [],
   "source": [
    "# Convert words and tags into numbers\n",
    "word2id = {w: i for i, w in enumerate(words)}\n",
    "tag2id = {t: i for i, t in enumerate(tags)}\n",
    "id2tag = {i: t for i, t in enumerate(tags)}\n",
    "len(tags), len(words)\n",
    "id2word = {}\n",
    "for key in word2id:\n",
    "    id2word[word2id[key]] = key\n"
   ]
  },
  {
   "cell_type": "code",
   "execution_count": 7,
   "id": "b4c9c6c5-733b-41ed-95b3-26768b548b87",
   "metadata": {},
   "outputs": [
    {
     "data": {
      "text/plain": [
       "{'$': 0,\n",
       " ',': 1,\n",
       " '.': 2,\n",
       " ':': 3,\n",
       " 'CC': 4,\n",
       " 'CD': 5,\n",
       " 'DT': 6,\n",
       " 'IN': 7,\n",
       " 'JJ': 8,\n",
       " 'JJR': 9,\n",
       " 'JJS': 10,\n",
       " 'LRB': 11,\n",
       " 'MD': 12,\n",
       " 'NN': 13,\n",
       " 'NNP': 14,\n",
       " 'NNPS': 15,\n",
       " 'NNS': 16,\n",
       " 'POS': 17,\n",
       " 'PRP': 18,\n",
       " 'RB': 19,\n",
       " 'RBR': 20,\n",
       " 'RRB': 21,\n",
       " 'VB': 22,\n",
       " 'VBD': 23,\n",
       " 'VBG': 24,\n",
       " 'VBN': 25,\n",
       " 'VBP': 26,\n",
       " 'VBZ': 27,\n",
       " '``': 28}"
      ]
     },
     "execution_count": 7,
     "metadata": {},
     "output_type": "execute_result"
    }
   ],
   "source": [
    "tag2id"
   ]
  },
  {
   "cell_type": "code",
   "execution_count": 53,
   "id": "55e17f90-47e9-4d1a-832d-feb7b29cf375",
   "metadata": {},
   "outputs": [],
   "source": [
    "attack_tag = {\n",
    "    0  : 1,\n",
    "    1  : 2,\n",
    "    2  : 3,\n",
    "    4  : 6,\n",
    "    5  : 13,\n",
    "    6  : 4,\n",
    "    7  : 6,\n",
    "    8  : 9,\n",
    "    9  : 10,\n",
    "    10 : 9,\n",
    "    11 : 19,\n",
    "    12 : 22,\n",
    "    13 : 16,\n",
    "    14 : 15,\n",
    "    15 : 14,\n",
    "    16 : 13,\n",
    "    17 : 17,\n",
    "    18 : 19,\n",
    "    19 : 20,\n",
    "    20 : 21,\n",
    "    21 : 20,\n",
    "    22 : 23,\n",
    "    23 : 25,\n",
    "    24 : 22,\n",
    "    25 : 23,\n",
    "    26 : 27,\n",
    "    27 : 26,\n",
    "    28 : 2 \n",
    "}\n",
    "\n",
    "attack_tag = {\n",
    "    0  : 0,\n",
    "    1  : 1,\n",
    "    2  : 1,\n",
    "    3  : 3,\n",
    "    4  : 4,\n",
    "    5  : 5,\n",
    "    6  : 6,\n",
    "    7  : 7,\n",
    "    8  : 8,\n",
    "    9  : 9,\n",
    "    10 : 10,\n",
    "    11 : 11,\n",
    "    12 : 12,\n",
    "    13 : 16,\n",
    "    14 : 14,\n",
    "    15 : 15,\n",
    "    16 : 16,\n",
    "    17 : 17,\n",
    "    18 : 18,\n",
    "    19 : 19,\n",
    "    20 : 20,\n",
    "    21 : 21,\n",
    "    22 : 22,\n",
    "    23 : 23,\n",
    "    24 : 24,\n",
    "    25 : 25,\n",
    "    26 : 26,\n",
    "    27 : 27,\n",
    "    28 : 2 \n",
    "}\n",
    "\n",
    "def seq2word(X):\n",
    "    l = []\n",
    "    for i in range(len(X)):\n",
    "        l.append(id2word[X[i]])\n",
    "    return l\n",
    "\n",
    "def attack_seq(X):\n",
    "    l = []\n",
    "    for i in range(len(X)):\n",
    "        l.append(attack_tag[X[i]])\n",
    "    return l"
   ]
  },
  {
   "cell_type": "code",
   "execution_count": 54,
   "id": "d5fba515-978a-4df3-87e4-f1c064521931",
   "metadata": {},
   "outputs": [
    {
     "data": {
      "text/plain": [
       "{'$': 0,\n",
       " ',': 1,\n",
       " '.': 2,\n",
       " ':': 3,\n",
       " 'CC': 4,\n",
       " 'CD': 5,\n",
       " 'DT': 6,\n",
       " 'IN': 7,\n",
       " 'JJ': 8,\n",
       " 'JJR': 9,\n",
       " 'JJS': 10,\n",
       " 'LRB': 11,\n",
       " 'MD': 12,\n",
       " 'NN': 13,\n",
       " 'NNP': 14,\n",
       " 'NNPS': 15,\n",
       " 'NNS': 16,\n",
       " 'POS': 17,\n",
       " 'PRP': 18,\n",
       " 'RB': 19,\n",
       " 'RBR': 20,\n",
       " 'RRB': 21,\n",
       " 'VB': 22,\n",
       " 'VBD': 23,\n",
       " 'VBG': 24,\n",
       " 'VBN': 25,\n",
       " 'VBP': 26,\n",
       " 'VBZ': 27,\n",
       " '``': 28}"
      ]
     },
     "execution_count": 54,
     "metadata": {},
     "output_type": "execute_result"
    }
   ],
   "source": [
    "tag2id"
   ]
  },
  {
   "cell_type": "markdown",
   "id": "6348f228-b2ca-4725-a660-c228484439a3",
   "metadata": {},
   "source": [
    "## Create HMM manually"
   ]
  },
  {
   "cell_type": "code",
   "execution_count": 10,
   "id": "c8969225-0eaf-4d20-ba32-2411732b9784",
   "metadata": {},
   "outputs": [
    {
     "name": "stderr",
     "output_type": "stream",
     "text": [
      "100%|██████████████████████████████████████████████████████████████████████████████████████████████████████████████████████████████████████████████████████████████| 329086/329086 [00:00<00:00, 2449353.68it/s]\n"
     ]
    }
   ],
   "source": [
    "count_tags = dict(data_reduced.POS.value_counts())  # Total number of POS tags in the dataset\n",
    "# Now let's create the tags to words count\n",
    "count_tags_to_words = data_reduced.groupby(['POS']).apply(\n",
    "    lambda grp: grp.groupby('Word')['POS'].count().to_dict()).to_dict()\n",
    "# We shall also collect the counts for the first tags in the sentence\n",
    "count_init_tags = dict(data_reduced.groupby('sentence').first().POS.value_counts())\n",
    "\n",
    "# Create a mapping that stores the frequency of transitions in tags to it's next tags\n",
    "count_tags_to_next_tags = np.zeros((len(tags), len(tags)), dtype=int)\n",
    "sentences = list(data_reduced.sentence)\n",
    "pos = list(data_reduced.POS)\n",
    "for i in tqdm(range(len(sentences)), position=0, leave=True):\n",
    "    if (i > 0) and (sentences[i] == sentences[i - 1]):\n",
    "        prevtagid = tag2id[pos[i - 1]]\n",
    "        nexttagid = tag2id[pos[i]]\n",
    "        count_tags_to_next_tags[prevtagid][nexttagid] += 1"
   ]
  },
  {
   "cell_type": "code",
   "execution_count": 11,
   "id": "6be1ffa8-cc46-4bb3-9cec-188bc0a20086",
   "metadata": {},
   "outputs": [
    {
     "name": "stderr",
     "output_type": "stream",
     "text": [
      "100%|█████████████████████████████████████████████████████████████████████████████████████████████████████████████████████████████████████████████████████████████████████████| 29/29 [00:00<00:00, 7704.75it/s]\n"
     ]
    }
   ],
   "source": [
    "startprob = np.zeros((len(tags),))\n",
    "transmat = np.zeros((len(tags), len(tags)))\n",
    "emissionprob = np.zeros((len(tags), len(words)))\n",
    "num_sentences = sum(count_init_tags.values())\n",
    "sum_tags_to_next_tags = np.sum(count_tags_to_next_tags, axis=1)\n",
    "for tag, tagid in tqdm(tag2id.items(), position=0, leave=True):\n",
    "    floatCountTag = float(count_tags.get(tag, 0))\n",
    "    startprob[tagid] = count_init_tags.get(tag, 0) / num_sentences\n",
    "    for word, wordid in word2id.items():\n",
    "        emissionprob[tagid][wordid] = count_tags_to_words.get(tag, {}).get(word, 0) / floatCountTag\n",
    "    for tag2, tagid2 in tag2id.items():\n",
    "        transmat[tagid][tagid2] = count_tags_to_next_tags[tagid][tagid2] / sum_tags_to_next_tags[tagid]"
   ]
  },
  {
   "cell_type": "markdown",
   "id": "8f66ae9e-82f4-418b-b203-c6ed4ca98260",
   "metadata": {},
   "source": [
    "# Build HMM\n",
    "\n",
    "Include cutoff for probabilities equal to 0"
   ]
  },
  {
   "cell_type": "code",
   "execution_count": 12,
   "id": "197f709e-5d80-4510-9f13-20ee2448b478",
   "metadata": {},
   "outputs": [],
   "source": [
    "cutoff = 0.001\n",
    "startprob = startprob +  cutoff\n",
    "startprob = startprob/ np.sum(startprob)\n",
    "##\n",
    "transmat =  transmat + cutoff\n",
    "transmat = transmat / np.sum(transmat, axis=1)\n",
    "##\n",
    "emissionprob =  emissionprob + cutoff\n",
    "emissionprob = emissionprob / np.sum(emissionprob, axis=1).reshape(-1,1)"
   ]
  },
  {
   "cell_type": "code",
   "execution_count": 13,
   "id": "c2b7ac28-e69a-434a-bc84-cdb4caec259a",
   "metadata": {},
   "outputs": [],
   "source": [
    "hmm_n = HMM(len(tags), len(words))\n",
    "hmm_n.startprob_ = startprob\n",
    "hmm_n.transmat_ = transmat\n",
    "hmm_n.emissionprob_ = emissionprob"
   ]
  },
  {
   "cell_type": "markdown",
   "id": "b0aa3f90-e152-4b7d-8272-315cf95a9319",
   "metadata": {},
   "source": [
    "# Attack HMM - APS"
   ]
  },
  {
   "cell_type": "code",
   "execution_count": 55,
   "id": "231984f1-ee68-418b-80f5-e90bc073b2c5",
   "metadata": {},
   "outputs": [],
   "source": [
    "from solvers.aps_gibbs_class import aps_gibbs\n",
    "from attackers.decoding_attacker import dec_attacker"
   ]
  },
  {
   "cell_type": "code",
   "execution_count": 56,
   "id": "7293a23a-6478-4f0a-b906-f0558a225a3e",
   "metadata": {},
   "outputs": [],
   "source": [
    "T  = 53\n",
    "n_obs = 300\n",
    "n_hidden = 29\n",
    "w1 = 3.0\n",
    "w2 = 10.0 \n",
    "k_value = 1000000.0\n",
    "cool = np.arange(500,501, 1)\n",
    "seq = 19*np.ones(T).astype(int)\n",
    "X = np.zeros( (1, len(data_reduced.Word.values[:T])) )\n",
    "for i in range(len(data_reduced.Word.values[:T])):\n",
    "    X[0, i] = word2id[data_reduced.Word.values[i]]\n",
    "\n",
    "###\n",
    "X = np.zeros( (1, len(data_reduced.Word.values[:T])) )\n",
    "for i in range(len(data_reduced.Word.values[:T])):\n",
    "    X[0, i] = word2id[data_reduced.Word.values[i]]\n",
    "    \n",
    "A =  X.astype(int)\n",
    "\n",
    "_, y_pred = hmm_n.nu(A[0])\n",
    "y_pred\n",
    "\n",
    "y = np.zeros(len(data_reduced.POS[:T]))\n",
    "for i in range(len(data_reduced.POS[:T])):\n",
    "    y[i] = tag2id[data_reduced.POS[:T].iloc[i]]\n",
    "###\n",
    "\n",
    "A =  X.astype(int)\n"
   ]
  },
  {
   "cell_type": "code",
   "execution_count": 84,
   "id": "8aa810bb-2b57-4fda-8528-92c021c4372a",
   "metadata": {},
   "outputs": [],
   "source": [
    "rho_probs = np.ones(n_obs)\n",
    "att = dec_attacker(hmm_n.startprob_ , hmm_n.transmat_, hmm_n.emissionprob_, rho_probs,\n",
    "         A.T, w1, w2, seq, k_value)"
   ]
  },
  {
   "cell_type": "code",
   "execution_count": null,
   "id": "49d14769-4ae1-4764-a498-ed20fb509aa0",
   "metadata": {},
   "outputs": [
    {
     "name": "stdout",
     "output_type": "stream",
     "text": [
      "Percentage completed: 0.0\n",
      "Current state [[0. 0. 0. ... 0. 0. 0.]\n",
      " [0. 0. 0. ... 0. 0. 0.]\n",
      " [0. 0. 0. ... 0. 0. 0.]\n",
      " ...\n",
      " [0. 0. 0. ... 0. 0. 0.]\n",
      " [0. 0. 0. ... 0. 0. 0.]\n",
      " [0. 0. 0. ... 0. 0. 0.]]\n",
      "0\n",
      "1\n",
      "2\n",
      "3\n",
      "4\n",
      "5\n",
      "6\n",
      "7\n",
      "8\n",
      "9\n",
      "10\n",
      "11\n",
      "12\n",
      "13\n",
      "14\n",
      "15\n",
      "16\n",
      "17\n",
      "18\n"
     ]
    }
   ],
   "source": [
    "find_sol = aps_gibbs(att, cool, burnin=0.1, verbose=True)\n",
    "sol, samples = find_sol.iterate(simulation_seconds=None)"
   ]
  },
  {
   "cell_type": "code",
   "execution_count": null,
   "id": "c7ba176d-397a-4355-8fe2-c29f09f098a9",
   "metadata": {},
   "outputs": [],
   "source": [
    "attack_obs = att.attack_X(np.ones_like(sol), sol)\n",
    "attack_obs = attack_obs.squeeze().astype(int)\n",
    "V, seq = hmm_n.nu(attack_obs)\n",
    "probs, opt_s = hmm_n.nu(seq)"
   ]
  },
  {
   "cell_type": "code",
   "execution_count": null,
   "id": "b686ba6c-2df2-44fd-882b-5923bd5b82d4",
   "metadata": {},
   "outputs": [],
   "source": [
    "opt_s"
   ]
  },
  {
   "cell_type": "code",
   "execution_count": null,
   "id": "f0091026-db39-42f1-9832-bdd37a63395d",
   "metadata": {},
   "outputs": [],
   "source": [
    "np.argmax(sol, axis=1)"
   ]
  },
  {
   "cell_type": "code",
   "execution_count": null,
   "id": "4a17b82d-4c57-4c0a-b120-23249c3898b7",
   "metadata": {},
   "outputs": [],
   "source": [
    "A[0] == np.argmax(sol, axis=1)"
   ]
  },
  {
   "cell_type": "code",
   "execution_count": 48,
   "id": "2d402d27-7242-408e-aaf6-3363d161b763",
   "metadata": {},
   "outputs": [],
   "source": [
    "#word2id"
   ]
  },
  {
   "cell_type": "markdown",
   "id": "b77ce418-0265-4201-b8cf-a6434db15a74",
   "metadata": {},
   "source": [
    "# Attack HMM - RS"
   ]
  },
  {
   "cell_type": "code",
   "execution_count": 57,
   "id": "ba5513e1-bae6-416e-9f5f-5d0ed111b95a",
   "metadata": {},
   "outputs": [],
   "source": [
    "from solvers.nn_RS.nn_RS import nn_RS\n",
    "from attackers.decoding_attacker import dec_attacker"
   ]
  },
  {
   "cell_type": "code",
   "execution_count": 59,
   "id": "5b62a398-65c5-43a8-9e84-91d51065abcf",
   "metadata": {},
   "outputs": [],
   "source": [
    "T  = 53\n",
    "n_obs = 300\n",
    "n_hidden = 29\n",
    "w1 = 1.0\n",
    "w2 = 5.0 \n",
    "k_value = 1000000.0\n",
    "X = np.zeros( (1, len(data_reduced.Word.values[:T])) )\n",
    "for i in range(len(data_reduced.Word.values[:T])):\n",
    "    X[0, i] = word2id[data_reduced.Word.values[i]]\n",
    "\n",
    "###\n",
    "X = np.zeros( (1, len(data_reduced.Word.values[:T])) )\n",
    "for i in range(len(data_reduced.Word.values[:T])):\n",
    "    X[0, i] = word2id[data_reduced.Word.values[i]]\n",
    "    \n",
    "A =  X.astype(int)\n",
    "\n",
    "_, y_pred = hmm_n.nu(A[0])\n",
    "y_pred\n",
    "\n",
    "y = np.zeros(len(data_reduced.POS[:T]))\n",
    "for i in range(len(data_reduced.POS[:T])):\n",
    "    y[i] = tag2id[data_reduced.POS[:T].iloc[i]]\n",
    "###\n",
    "\n",
    "seq = attack_seq(y_pred.astype(int))\n"
   ]
  },
  {
   "cell_type": "code",
   "execution_count": 34,
   "id": "b11a6b00-c13f-4288-9c1f-93ad4add672c",
   "metadata": {},
   "outputs": [],
   "source": [
    "rho_probs = np.ones(n_obs)\n",
    "att = dec_attacker(hmm_n.startprob_ , hmm_n.transmat_, hmm_n.emissionprob_, rho_probs,\n",
    "         A.T, w1, w2, seq, k_value)"
   ]
  },
  {
   "cell_type": "code",
   "execution_count": 35,
   "id": "50bc38ef-3bea-4b34-8855-5b1bbac839ac",
   "metadata": {},
   "outputs": [
    {
     "name": "stdout",
     "output_type": "stream",
     "text": [
      "Percentage completed: 0.0\n",
      "Best value: \n",
      "0.0\n",
      "Percentage completed: 1.0\n",
      "Best value: \n",
      "65.30698711240669\n",
      "Percentage completed: 2.0\n",
      "Best value: \n",
      "65.63731080021249\n",
      "Percentage completed: 3.0\n",
      "Best value: \n",
      "65.63731080021249\n",
      "Percentage completed: 4.0\n",
      "Best value: \n",
      "67.64330557021547\n",
      "Percentage completed: 5.0\n",
      "Best value: \n",
      "69.3771545601238\n",
      "Percentage completed: 6.0\n",
      "Best value: \n",
      "69.3771545601238\n",
      "Percentage completed: 7.0\n",
      "Best value: \n",
      "69.3771545601238\n",
      "Percentage completed: 8.0\n",
      "Best value: \n",
      "69.3771545601238\n",
      "Percentage completed: 9.0\n",
      "Best value: \n",
      "69.3771545601238\n",
      "Percentage completed: 10.0\n",
      "Best value: \n",
      "69.3771545601238\n",
      "Percentage completed: 11.0\n",
      "Best value: \n",
      "74.47054862319553\n",
      "Percentage completed: 12.0\n",
      "Best value: \n",
      "74.47054862319553\n",
      "Percentage completed: 13.0\n",
      "Best value: \n",
      "74.47054862319553\n",
      "Percentage completed: 14.0\n",
      "Best value: \n",
      "78.87990932180062\n",
      "Percentage completed: 15.0\n",
      "Best value: \n",
      "78.87990932180062\n",
      "Percentage completed: 16.0\n",
      "Best value: \n",
      "78.87990932180062\n",
      "Percentage completed: 17.0\n",
      "Best value: \n",
      "78.87990932180062\n",
      "Percentage completed: 18.0\n",
      "Best value: \n",
      "78.87990932180062\n",
      "Percentage completed: 19.0\n",
      "Best value: \n",
      "78.87990932180062\n",
      "Percentage completed: 20.0\n",
      "Best value: \n",
      "78.87990932180062\n",
      "Percentage completed: 21.0\n",
      "Best value: \n",
      "78.87990932180062\n",
      "Percentage completed: 22.0\n",
      "Best value: \n",
      "78.87990932180062\n",
      "Percentage completed: 23.0\n",
      "Best value: \n",
      "78.87990932180062\n",
      "Percentage completed: 24.0\n",
      "Best value: \n",
      "78.87990932180062\n",
      "Percentage completed: 25.0\n",
      "Best value: \n",
      "80.51687007941541\n",
      "Percentage completed: 26.0\n",
      "Best value: \n",
      "80.51687007941541\n",
      "Percentage completed: 27.0\n",
      "Best value: \n",
      "80.51687007941541\n",
      "Percentage completed: 28.0\n",
      "Best value: \n",
      "80.51687007941541\n",
      "Percentage completed: 29.0\n",
      "Best value: \n",
      "80.51687007941541\n",
      "Percentage completed: 30.0\n",
      "Best value: \n",
      "80.51687007941541\n",
      "Percentage completed: 31.0\n",
      "Best value: \n",
      "82.14938801233215\n",
      "Percentage completed: 32.0\n",
      "Best value: \n",
      "89.29346277790587\n",
      "Percentage completed: 33.0\n",
      "Best value: \n",
      "89.29346277790587\n",
      "Percentage completed: 34.0\n",
      "Best value: \n",
      "89.29346277790587\n",
      "Percentage completed: 35.0\n",
      "Best value: \n",
      "89.29346277790587\n",
      "Percentage completed: 36.0\n",
      "Best value: \n",
      "89.29346277790587\n",
      "Percentage completed: 37.0\n",
      "Best value: \n",
      "89.29346277790587\n",
      "Percentage completed: 38.0\n",
      "Best value: \n",
      "89.29346277790587\n",
      "Percentage completed: 39.0\n",
      "Best value: \n",
      "89.29346277790587\n",
      "Percentage completed: 40.0\n",
      "Best value: \n",
      "89.29346277790587\n",
      "Percentage completed: 41.0\n",
      "Best value: \n",
      "89.29346277790587\n",
      "Percentage completed: 42.0\n",
      "Best value: \n",
      "89.29346277790587\n",
      "Percentage completed: 43.0\n",
      "Best value: \n",
      "89.29346277790587\n",
      "Percentage completed: 44.0\n",
      "Best value: \n",
      "89.29346277790587\n",
      "Percentage completed: 45.0\n",
      "Best value: \n",
      "89.29346277790587\n",
      "Percentage completed: 46.0\n",
      "Best value: \n",
      "90.1077456889611\n",
      "Percentage completed: 47.0\n",
      "Best value: \n",
      "90.1077456889611\n",
      "Percentage completed: 48.0\n",
      "Best value: \n",
      "90.1077456889611\n",
      "Percentage completed: 49.0\n",
      "Best value: \n",
      "90.1077456889611\n",
      "Percentage completed: 50.0\n",
      "Best value: \n",
      "90.1077456889611\n",
      "Percentage completed: 51.0\n",
      "Best value: \n",
      "90.1077456889611\n",
      "Percentage completed: 52.0\n",
      "Best value: \n",
      "90.1077456889611\n",
      "Percentage completed: 53.0\n",
      "Best value: \n",
      "90.1077456889611\n",
      "Percentage completed: 54.0\n",
      "Best value: \n",
      "90.1077456889611\n",
      "Percentage completed: 55.0\n",
      "Best value: \n",
      "92.2173149071821\n",
      "Percentage completed: 56.0\n",
      "Best value: \n",
      "92.2173149071821\n",
      "Percentage completed: 57.0\n",
      "Best value: \n",
      "92.2173149071821\n",
      "Percentage completed: 58.0\n",
      "Best value: \n",
      "92.2173149071821\n",
      "Percentage completed: 59.0\n",
      "Best value: \n",
      "92.2173149071821\n",
      "Percentage completed: 60.0\n",
      "Best value: \n",
      "92.2173149071821\n",
      "Percentage completed: 61.0\n",
      "Best value: \n",
      "92.2173149071821\n",
      "Percentage completed: 62.0\n",
      "Best value: \n",
      "92.2173149071821\n",
      "Percentage completed: 63.0\n",
      "Best value: \n",
      "92.2173149071821\n",
      "Percentage completed: 64.0\n",
      "Best value: \n",
      "92.2173149071821\n",
      "Percentage completed: 65.0\n",
      "Best value: \n",
      "92.2173149071821\n",
      "Percentage completed: 66.0\n",
      "Best value: \n",
      "92.2173149071821\n",
      "Percentage completed: 67.0\n",
      "Best value: \n",
      "92.2173149071821\n",
      "Percentage completed: 68.0\n",
      "Best value: \n",
      "92.2173149071821\n",
      "Percentage completed: 69.0\n",
      "Best value: \n",
      "92.2173149071821\n",
      "Percentage completed: 70.0\n",
      "Best value: \n",
      "92.2173149071821\n",
      "Percentage completed: 71.0\n",
      "Best value: \n",
      "92.2173149071821\n",
      "Percentage completed: 72.0\n",
      "Best value: \n",
      "92.2173149071821\n",
      "Percentage completed: 73.0\n",
      "Best value: \n",
      "92.2173149071821\n",
      "Percentage completed: 74.0\n",
      "Best value: \n",
      "92.2173149071821\n",
      "Percentage completed: 75.0\n",
      "Best value: \n",
      "92.2173149071821\n",
      "Percentage completed: 76.0\n",
      "Best value: \n",
      "99.23527538716408\n",
      "Percentage completed: 77.0\n",
      "Best value: \n",
      "99.23527538716408\n",
      "Percentage completed: 78.0\n",
      "Best value: \n",
      "99.23527538716408\n",
      "Percentage completed: 79.0\n",
      "Best value: \n",
      "101.99947554774553\n",
      "Percentage completed: 80.0\n",
      "Best value: \n",
      "101.99947554774553\n",
      "Percentage completed: 81.0\n",
      "Best value: \n",
      "101.99947554774553\n",
      "Percentage completed: 82.0\n",
      "Best value: \n",
      "101.99947554774553\n",
      "Percentage completed: 83.0\n",
      "Best value: \n",
      "101.99947554774553\n",
      "Percentage completed: 84.0\n",
      "Best value: \n",
      "101.99947554774553\n",
      "Percentage completed: 85.0\n",
      "Best value: \n",
      "101.99947554774553\n",
      "Percentage completed: 86.0\n",
      "Best value: \n",
      "103.65114819555303\n",
      "Percentage completed: 87.0\n",
      "Best value: \n",
      "103.65114819555303\n",
      "Percentage completed: 88.0\n",
      "Best value: \n",
      "103.65114819555303\n",
      "Percentage completed: 89.0\n",
      "Best value: \n",
      "103.65114819555303\n",
      "Percentage completed: 90.0\n",
      "Best value: \n",
      "103.65114819555303\n",
      "Percentage completed: 91.0\n",
      "Best value: \n",
      "103.65114819555303\n",
      "Percentage completed: 92.0\n",
      "Best value: \n",
      "103.65114819555303\n",
      "Percentage completed: 93.0\n",
      "Best value: \n",
      "103.65114819555303\n",
      "Percentage completed: 94.0\n",
      "Best value: \n",
      "103.65114819555303\n",
      "Percentage completed: 95.0\n",
      "Best value: \n",
      "103.65114819555303\n",
      "Percentage completed: 96.0\n",
      "Best value: \n",
      "107.81340568865468\n",
      "Percentage completed: 97.0\n",
      "Best value: \n",
      "107.81340568865468\n",
      "Percentage completed: 98.0\n",
      "Best value: \n",
      "107.81340568865468\n",
      "Percentage completed: 99.0\n",
      "Best value: \n",
      "107.81340568865468\n"
     ]
    }
   ],
   "source": [
    "find_sol = nn_RS(att, \"SA\", RS_iters=5000, mcts_iters=10, sa_iters=10, eps=0.05, lr=0.005, verbose=True)\n",
    "sol, samples = find_sol.iterate(simulation_seconds=None)"
   ]
  },
  {
   "cell_type": "code",
   "execution_count": 45,
   "id": "88ee4cd1-073d-4d30-a5ba-3a2f1c32d0e5",
   "metadata": {},
   "outputs": [],
   "source": [
    "sol = find_sol.policy(eps=0.0, iters=500)"
   ]
  },
  {
   "cell_type": "code",
   "execution_count": 46,
   "id": "c1a3a805-998d-4717-ba88-30bae0b013af",
   "metadata": {},
   "outputs": [],
   "source": [
    "attack_obs = att.attack_X(np.ones_like(sol), sol)\n",
    "attack_obs = attack_obs.squeeze().astype(int)\n",
    "V, seq = hmm_n.nu(attack_obs)\n",
    "probs, opt_s = hmm_n.nu(seq)"
   ]
  },
  {
   "cell_type": "code",
   "execution_count": 47,
   "id": "bca5b67c-b0db-4b13-b8b7-4a1288860de4",
   "metadata": {},
   "outputs": [
    {
     "data": {
      "text/plain": [
       "array([14, 13,  8,  8, 14, 13, 14, 13, 14, 13,  8, 13,  8, 14, 13, 13, 14,\n",
       "       13, 13, 14, 14, 13, 14, 13,  8,  5, 13, 14, 13,  8, 13,  8,  8, 14,\n",
       "       13, 14, 13, 14,  8, 22, 13, 13,  8,  5,  8, 13,  8, 13, 14,  8,  8,\n",
       "       13, 13])"
      ]
     },
     "execution_count": 47,
     "metadata": {},
     "output_type": "execute_result"
    }
   ],
   "source": [
    "opt_s"
   ]
  },
  {
   "cell_type": "code",
   "execution_count": 48,
   "id": "617dab0e-5a8f-4175-b9c7-26205987ac04",
   "metadata": {},
   "outputs": [
    {
     "data": {
      "text/plain": [
       "0.22641509433962265"
      ]
     },
     "execution_count": 48,
     "metadata": {},
     "output_type": "execute_result"
    }
   ],
   "source": [
    "np.mean(opt_s == seq)"
   ]
  },
  {
   "cell_type": "code",
   "execution_count": 52,
   "id": "d1233cc8-ecf1-4363-891d-8432f9bbda44",
   "metadata": {},
   "outputs": [
    {
     "data": {
      "text/plain": [
       "array([16, 13, 14,  8, 16, 13,  2, 28,  2, 28, 14, 13,  5,  2, 28, 28,  2,\n",
       "       28, 13,  2, 28, 13,  2, 28, 17, 13,  8,  2, 28, 14, 17, 14,  8, 16,\n",
       "       13,  2, 28, 23,  1, 24,  1,  1,  2, 28, 13, 13,  8, 13, 16, 14, 14,\n",
       "       17,  2])"
      ]
     },
     "execution_count": 52,
     "metadata": {},
     "output_type": "execute_result"
    }
   ],
   "source": [
    "y_pred"
   ]
  },
  {
   "cell_type": "code",
   "execution_count": 50,
   "id": "c2ee77b5-dade-4de8-9693-d4faaa4c1d23",
   "metadata": {},
   "outputs": [
    {
     "data": {
      "text/plain": [
       "array([16., 13., 14.,  8., 16., 13.,  2., 16., 25., 28., 14., 13.,  5.,\n",
       "       13., 28., 28.,  2., 28., 13.,  2., 16., 13.,  2., 14., 17., 14.,\n",
       "        8.,  2., 13., 14., 17., 14.,  8., 16., 13.,  2., 13., 23.,  1.,\n",
       "       24.,  1.,  1.,  2., 14., 14., 14.,  8., 13., 16., 14., 14., 17.,\n",
       "        2.])"
      ]
     },
     "execution_count": 50,
     "metadata": {},
     "output_type": "execute_result"
    }
   ],
   "source": [
    "y"
   ]
  },
  {
   "cell_type": "code",
   "execution_count": 51,
   "id": "85130031-6f6b-4910-98d8-9af836f23c49",
   "metadata": {},
   "outputs": [
    {
     "data": {
      "text/plain": [
       "array([16, 13, 14,  8, 16, 13,  2, 28, 23, 13, 14, 13,  5,  2, 28, 28,  2,\n",
       "       28, 28,  2, 16, 26,  2, 28,  8, 20, 13,  2, 28, 14, 17, 14, 14, 16,\n",
       "       13,  2, 28, 23,  8, 24,  1,  1, 14, 15, 22, 13,  8, 13, 16, 14, 14,\n",
       "       17,  1])"
      ]
     },
     "execution_count": 51,
     "metadata": {},
     "output_type": "execute_result"
    }
   ],
   "source": [
    "seq"
   ]
  },
  {
   "cell_type": "code",
   "execution_count": 40,
   "id": "3d1998d2-8a95-4bfd-b7a3-8fa1b4de5642",
   "metadata": {},
   "outputs": [
    {
     "name": "stdout",
     "output_type": "stream",
     "text": [
      "0.22641509433962265\n",
      "0.7924528301886793\n"
     ]
    }
   ],
   "source": [
    "print( np.mean(opt_s == y) )\n",
    "print( np.mean(y_pred == y) )"
   ]
  },
  {
   "cell_type": "code",
   "execution_count": 41,
   "id": "185f5fa9-e4c8-48a3-9dba-ca9e20ef874a",
   "metadata": {},
   "outputs": [
    {
     "name": "stdout",
     "output_type": "stream",
     "text": [
      "0.6981132075471698\n"
     ]
    }
   ],
   "source": [
    "print( np.mean( attack_obs == A[0] ) )"
   ]
  },
  {
   "cell_type": "code",
   "execution_count": 42,
   "id": "3b3a73df-31f0-4ac3-9eac-4ae3f1312889",
   "metadata": {},
   "outputs": [
    {
     "data": {
      "text/plain": [
       "254.9316126197505"
      ]
     },
     "execution_count": 42,
     "metadata": {},
     "output_type": "execute_result"
    }
   ],
   "source": [
    "att.expected_utility(sol)"
   ]
  },
  {
   "cell_type": "code",
   "execution_count": 43,
   "id": "411e969b-1923-4623-b145-f9ad0049ed1f",
   "metadata": {},
   "outputs": [
    {
     "name": "stdout",
     "output_type": "stream",
     "text": [
      "thousands war iraq northern troops country . power killed number bush number one terrorist \" \" official \" confirmed . police say . britain eastern earlier take . party britain 's iraq defense troops energy . march came northern including , , united states visit agency second day talks wednesday iran 's ,\n"
     ]
    }
   ],
   "source": [
    "print(' '.join(seq2word(attack_obs))) "
   ]
  },
  {
   "cell_type": "code",
   "execution_count": 44,
   "id": "4a10fec4-16e8-46b3-b6b5-45c783b1e41b",
   "metadata": {},
   "outputs": [
    {
     "name": "stdout",
     "output_type": "stream",
     "text": [
      "thousands war iraq british troops country . soldiers killed \" bush number one terrorist \" \" . \" parliament . police number . britain 's party southern . party britain 's iraq british troops country . march came , including , , . international energy agency second day talks wednesday iran 's .\n"
     ]
    }
   ],
   "source": [
    "print(' '.join(seq2word(A[0]))) "
   ]
  },
  {
   "cell_type": "code",
   "execution_count": null,
   "id": "f64278c6-75cb-4e7a-92b9-ede9faad00a3",
   "metadata": {},
   "outputs": [],
   "source": []
  }
 ],
 "metadata": {
  "kernelspec": {
   "display_name": "Python 3 (ipykernel)",
   "language": "python",
   "name": "python3"
  },
  "language_info": {
   "codemirror_mode": {
    "name": "ipython",
    "version": 3
   },
   "file_extension": ".py",
   "mimetype": "text/x-python",
   "name": "python",
   "nbconvert_exporter": "python",
   "pygments_lexer": "ipython3",
   "version": "3.11.5"
  }
 },
 "nbformat": 4,
 "nbformat_minor": 5
}
